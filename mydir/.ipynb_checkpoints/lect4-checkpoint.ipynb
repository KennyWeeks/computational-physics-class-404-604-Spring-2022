{
 "cells": [
  {
   "cell_type": "markdown",
   "metadata": {},
   "source": [
    "# Physics 404/604\n",
    "\n",
    "## Computational Physics \n",
    "\n",
    "| Instructor | Prof. Zhaohuan Zhu                 |\n",
    "| ---------- | :--------------------------------- |\n",
    "| Email      | zhaohuan.zhu@unlv.edu              |\n",
    "| Website    | http://www.physics.unlv.edu/~zhzhu |\n",
    "| Office     | BPB 245                            |\n",
    "\n"
   ]
  },
  {
   "cell_type": "markdown",
   "metadata": {},
   "source": [
    "\n",
    "# 1. Round-off Error (last class)\n",
    "\n",
    "\n",
    "# 2. Truncation Error\n",
    "\n",
    "Truncation error is the error made by   \n",
    "1) truncating an infinite sum and approximating it by a finite sum   \n",
    "2) discretization error: error due to taking a finite number for steps instead of an infinite number\n",
    "\n",
    "##  2.1 Differentiation\n",
    "\n",
    "Study the trajector of a capsule during its reentry to earth (as in movie \"hidden figures\"). According to  newton's second\n",
    "law, \n",
    "\\begin{equation}\n",
    "F=m \\frac{d {\\bf v}}{ dt}\n",
    "\\end{equation}\n",
    "\n",
    "We need to calculate ${\\bf v} = dy(t)/dt $. \n",
    "Formally, it is $lim_{\\Delta t-> 0}\\frac{y(t+\\Delta t)-y(t)}{h}$. But we cannot do it numerically in this way due to the machine precision. We have to take a finite h, which introduces error."
   ]
  },
  {
   "cell_type": "markdown",
   "metadata": {},
   "source": [
    "## 2.2 First derivative\n",
    "\n",
    "### Forward difference:\n",
    "\\begin{equation}\n",
    "\\frac{d y(t)}{dt}_{fw} = \\frac{y(t+h)-y(t)}{h}\n",
    "\\end{equation}\n",
    "Error estimate: using Taylor expansion\n",
    "\\begin{equation}\n",
    "y(t+h)=y(t)+h*y'(t)+\\frac{h^2}{2!}*y''(t)+\\frac{h^3}{3!}*y'''(t)+...\n",
    "\\end{equation}\n",
    "So\n",
    "\\begin{equation}\n",
    "\\frac{d y(t)}{dt}_{fw} = y'(t)+\\frac{h}{2!}*y''(t)+\\frac{h^2}{3!}*y'''(t)+...\n",
    "\\end{equation}\n",
    "Error is $\\frac{h}{2!}*y''(t)+\\frac{h^2}{3!}*y'''(t)+...$, the leading error is O(h).\n",
    "Draw a picture to show how forward difference works for the capsule's trajectory.\n",
    "\n",
    "### Central difference:\n",
    "\\begin{equation}\n",
    "\\frac{d y(t)}{dt}_{cd} = \\frac{y(t+h/2)-y(t-h/2)}{h}\n",
    "\\end{equation}\n",
    "Draw a figure. \n",
    "\\begin{equation}\n",
    "y(t+h/2)=y(t)+h/2*y'(t)+\\frac{(h/2)^2}{2!}*y''(t)+\\frac{(h/2)^3}{3!}*y'''(t)+\\frac{(h/2)^4}{4!}*y^{(4)}(t)+\\frac{(h/2)^5}{5!}*y^{(5)}(t)+.... \n",
    "\\end{equation}\n",
    "\\begin{equation}\n",
    "y(t-h/2)=y(t)-h/2*y'(t)+\\frac{(h/2)^2}{2!}*y''(t)-\\frac{(h/2)^3}{3!}*y'''(t)+\\frac{(h/2)^4}{4!}*y^{(4)}(t)-\\frac{(h/2)^5}{5!}*y^{(5)}(t)+....\n",
    "\\end{equation}\n",
    "So  \n",
    "\\begin{equation}\n",
    "\\frac{d y(t)}{dt}_{cd} = y'(t) + \\frac{h^2}{4*3!}*y'''(t)+\\frac{(h^4}{2^4*5!}*y^(5)(t)....\n",
    "\\end{equation}\n",
    "Error is $O(h^2)$. \n",
    "\n",
    "### Extrapolated Difference:\n",
    "We can extend the method to even higher order accuracy using 3 steps:\n",
    "\\begin{equation}\n",
    "\\frac{d y(t)}{dt}_{cd,1} = \\frac{y(t+h/2)-y(t-h/2)}{h}\n",
    "\\end{equation}\n",
    "\\begin{equation}\n",
    "\\frac{d y(t)}{dt}_{cd,2} = \\frac{y(t+h/4)-y(t-h/4)}{h/2}\n",
    "\\end{equation}\n",
    "\\begin{equation}\n",
    "\\frac{d y(t)}{dt}_{ed} = \\frac{4*\\frac{d y(t)}{dt}_{cd,2}-\\frac{d y(t)}{dt}_{cd,1}}{3}\n",
    "\\end{equation}\n",
    "\n",
    "The error analysis is\n",
    "\\begin{equation}\n",
    "\\frac{d y(t)}{dt}_{cd,1} = y'(t) + \\frac{h^2}{2^3/2*3!}*y'''(t) + \\frac{(h^4}{2^5/2*5!}*y^{(5)}(t)....\n",
    "\\end{equation}\n",
    "\\begin{equation}\n",
    "\\frac{d y(t)}{dt}_{cd,2} = y'(t) + \\frac{h^2}{4^3/4*3!}*y'''(t) + \\frac{(h^4}{4^5/4*5!}*y^{(5)}(t)....\n",
    "\\end{equation}\n",
    "Then we have\n",
    "\\begin{equation}\n",
    "\\frac{d y(t)}{dt}_{ed} = \\frac{4*\\frac{d y(t)}{dt}_{cd,2}-\\frac{d y(t)}{dt}_{cd,1}}{3}=\\frac{8[y(t+h/4)-y(t-h/4)]-[y(t+h/2)-y(t-h/2)]}{3 h}\n",
    "\\end{equation}\n",
    "So the error is $O(h^4)=-\\frac{h^4}{64*120}*y^{(5)}(t)....$"
   ]
  },
  {
   "cell_type": "code",
   "execution_count": 4,
   "metadata": {},
   "outputs": [],
   "source": [
    "import numpy as np\n",
    "\n",
    "def derifw(y,x,dx):\n",
    "    return (y(x+dx)-y(x))/dx\n",
    "\n",
    "def dericd(y,x,dx):\n",
    "    return (y(x+(dx/2))-y(x-(dx/2)))/dx\n",
    "    #please write your own central difference scheme\n",
    "\n",
    "def deried(y,x,dx):\n",
    "    cd1 = dericd(y, x, dx)\n",
    "    cd2 = dericd(y, x, dx/2)\n",
    "    return (4*cd2-cd1)/3\n",
    "    #please write your own extrapolated difference scheme\n",
    "    "
   ]
  },
  {
   "cell_type": "code",
   "execution_count": 5,
   "metadata": {},
   "outputs": [
    {
     "name": "stdout",
     "output_type": "stream",
     "text": [
      "forward difference 0.4973637525353891\n",
      "central difference 0.5400772080464311\n",
      "extrapolated difference 0.540302298833476\n",
      "analytical result 0.5403023058681398\n"
     ]
    }
   ],
   "source": [
    "import numpy as np\n",
    "\n",
    "x=1.0\n",
    "dx=0.1\n",
    "print('forward difference',derifw(np.sin,x,dx))\n",
    "print('central difference',dericd(np.sin,x,dx))\n",
    "print('extrapolated difference',deried(np.sin,x,dx))\n",
    "print('analytical result',np.cos(x))"
   ]
  },
  {
   "cell_type": "code",
   "execution_count": 4,
   "metadata": {},
   "outputs": [
    {
     "name": "stdout",
     "output_type": "stream",
     "text": [
      "dx 1e-06,  y 0.540302\n",
      "dx 1.25893e-06,  y 0.540302\n",
      "dx 1.58489e-06,  y 0.540302\n",
      "dx 1.99526e-06,  y 0.540301\n",
      "dx 2.51189e-06,  y 0.540301\n",
      "dx 3.16228e-06,  y 0.540301\n",
      "dx 3.98107e-06,  y 0.540301\n",
      "dx 5.01187e-06,  y 0.5403\n",
      "dx 6.30957e-06,  y 0.5403\n",
      "dx 7.94328e-06,  y 0.540299\n",
      "dx 1e-05,  y 0.540298\n",
      "dx 1.25893e-05,  y 0.540297\n",
      "dx 1.58489e-05,  y 0.540296\n",
      "dx 1.99526e-05,  y 0.540294\n",
      "dx 2.51189e-05,  y 0.540292\n",
      "dx 3.16228e-05,  y 0.540289\n",
      "dx 3.98107e-05,  y 0.540286\n",
      "dx 5.01187e-05,  y 0.540281\n",
      "dx 6.30957e-05,  y 0.540276\n",
      "dx 7.94328e-05,  y 0.540269\n",
      "dx 0.0001,  y 0.54026\n",
      "dx 0.000125893,  y 0.540249\n",
      "dx 0.000158489,  y 0.540236\n",
      "dx 0.000199526,  y 0.540218\n",
      "dx 0.000251189,  y 0.540197\n",
      "dx 0.000316228,  y 0.540169\n",
      "dx 0.000398107,  y 0.540135\n",
      "dx 0.000501187,  y 0.540091\n",
      "dx 0.000630957,  y 0.540037\n",
      "dx 0.000794328,  y 0.539968\n",
      "dx 0.001,  y 0.539881\n",
      "dx 0.00125893,  y 0.539772\n",
      "dx 0.00158489,  y 0.539635\n",
      "dx 0.00199526,  y 0.539462\n",
      "dx 0.00251189,  y 0.539245\n",
      "dx 0.00316228,  y 0.538971\n",
      "dx 0.00398107,  y 0.538626\n",
      "dx 0.00501187,  y 0.538191\n",
      "dx 0.00630957,  y 0.537644\n",
      "dx 0.00794328,  y 0.536955\n",
      "dx 0.01,  y 0.536086\n",
      "dx 0.0125893,  y 0.534991\n",
      "dx 0.0158489,  y 0.533612\n",
      "dx 0.0199526,  y 0.531872\n",
      "dx 0.0251189,  y 0.529678\n",
      "dx 0.0316228,  y 0.526909\n",
      "dx 0.0398107,  y 0.523412\n",
      "dx 0.0501187,  y 0.518994\n",
      "dx 0.0630957,  y 0.513406\n",
      "dx 0.0794328,  y 0.506332\n",
      "dx 0.1,  y 0.497364\n",
      "dx 0.125893,  y 0.485979\n",
      "dx 0.158489,  y 0.471501\n",
      "dx 0.199526,  y 0.453055\n",
      "dx 0.251189,  y 0.429509\n"
     ]
    }
   ],
   "source": [
    "# how's the error change with increasing dx \n",
    "# forward difference\n",
    "\n",
    "import numpy as np\n",
    "x=1.0\n",
    "dxarr=[]\n",
    "yarr=[]\n",
    "for dx in 10**np.arange(-6, -0.5, 0.1):\n",
    "    y=derifw(np.sin,x,dx)\n",
    "    print('dx %g,  y %g'%(dx,y))\n",
    "    dxarr.append(dx)\n",
    "    yarr.append(y)"
   ]
  },
  {
   "cell_type": "code",
   "execution_count": 5,
   "metadata": {},
   "outputs": [
    {
     "data": {
      "image/png": "[encoded data removed]",
      "text/plain": [
       "<Figure size 432x288 with 1 Axes>"
      ]
     },
     "metadata": {},
     "output_type": "display_data"
    }
   ],
   "source": [
    "import numpy as np\n",
    "import matplotlib.pyplot as plt\n",
    "\n",
    "plt.plot(dxarr, abs(yarr-np.cos(1.)), 'b-', lw=2)     \n",
    "plt.xscale('log')\n",
    "plt.yscale('log')\n",
    "plt.xlabel('dx')\n",
    "plt.ylabel('Error')\n",
    "plt.show()\n"
   ]
  },
  {
   "cell_type": "code",
   "execution_count": 8,
   "metadata": {},
   "outputs": [
    {
     "data": {
      "image/png": "[encoded data removed]",
      "text/plain": [
       "<Figure size 432x288 with 1 Axes>"
      ]
     },
     "metadata": {
      "needs_background": "light"
     },
     "output_type": "display_data"
    }
   ],
   "source": [
    "# how's the error change with increasing dx \n",
    "# central difference\n",
    "\n",
    "import numpy as np\n",
    "import matplotlib.pyplot as plt\n",
    "x=1.0\n",
    "dxarr=[]\n",
    "yarr=[]\n",
    "for dx in 10**np.arange(-6., -0.5, 0.1):\n",
    "    y=dericd(np.sin,x,dx)\n",
    "    dxarr.append(dx)\n",
    "    yarr.append(y)\n",
    "    \n",
    "plt.plot(dxarr, abs(yarr-np.cos(1.)), 'b-', lw=2)    \n",
    "plt.xscale('log')\n",
    "plt.yscale('log')\n",
    "plt.xlabel('dx')\n",
    "plt.ylabel('Error')\n",
    "\n",
    "plt.show()"
   ]
  },
  {
   "cell_type": "code",
   "execution_count": 7,
   "metadata": {},
   "outputs": [
    {
     "data": {
      "image/png": "[encoded data removed]",
      "text/plain": [
       "<Figure size 432x288 with 1 Axes>"
      ]
     },
     "metadata": {},
     "output_type": "display_data"
    }
   ],
   "source": [
    "# how's the error change with increasing dx \n",
    "# extrapolated difference\n",
    "\n",
    "import numpy as np\n",
    "import matplotlib.pyplot as plt\n",
    "x=1.0\n",
    "dxarr=[]\n",
    "yarr=[]\n",
    "for dx in 10**np.arange(-6., -0.5, 0.1):\n",
    "    y=deried(np.sin,x,dx)\n",
    "    dxarr.append(dx)\n",
    "    yarr.append(y)\n",
    "    \n",
    "plt.plot(dxarr, abs(yarr-np.cos(1.)), 'b-', lw=2)    \n",
    "plt.xscale('log')\n",
    "plt.yscale('log')\n",
    "plt.xlabel('dx')\n",
    "plt.ylabel('Error')\n",
    "\n",
    "plt.show()"
   ]
  },
  {
   "cell_type": "code",
   "execution_count": 8,
   "metadata": {
    "scrolled": true
   },
   "outputs": [
    {
     "data": {
      "image/png": "[encoded data removed]",
      "text/plain": [
       "<Figure size 432x288 with 1 Axes>"
      ]
     },
     "metadata": {},
     "output_type": "display_data"
    }
   ],
   "source": [
    "## Plot them together\n",
    "import numpy as np\n",
    "import matplotlib.pyplot as plt\n",
    "x=1.0\n",
    "dxarr=[]\n",
    "yfwarr=[]\n",
    "ycdarr=[]\n",
    "yedarr=[]\n",
    "for dx in 10**np.arange(-9., -0.5, 0.1):\n",
    "    dxarr.append(dx)\n",
    "    \n",
    "# finish these lines in the loop so that you store derivative from three different methods to yfwarr, ycdarr, and yedarr\n",
    "    \n",
    "plt.plot(dxarr, np.abs(yfwarr-np.cos(1.)), 'b-', lw=2)  \n",
    "plt.plot(dxarr, np.abs(ycdarr-np.cos(1.)), 'g-', lw=2)  \n",
    "plt.plot(dxarr, np.abs(yedarr-np.cos(1.)), 'r-', lw=2) \n",
    "plt.xscale('log')\n",
    "plt.yscale('log')\n",
    "plt.xlabel('dx')\n",
    "plt.ylabel('Error')\n",
    "\n",
    "plt.show()"
   ]
  },
  {
   "cell_type": "markdown",
   "metadata": {},
   "source": [
    "### Error Assessment\n",
    "\n",
    "The best results you can get is that the addtion of the round-off error and the truncation error is minimum. Since the truncation error decreases as h becomes small and the round-off error increases as h becomes small (subtraction cancellation), it means that the round-off error roughly equals the truncation error.\n",
    "\n",
    "The round-off error for the difference $[y(t+h)-y(t)]$ is $(y(t+h)-y(t))*\\epsilon_{machine}*y(t)/(y(t+h)-y(t))$, so the error for $([y(t+h)-y(t)])/h$ is $y\\times\\epsilon_{machine}/h$.  \n",
    "The truncation error for forward difference is $y''\\times h/2$, for central difference is $y'''\\times h^2/24$.\n",
    "\n",
    "\n",
    "Assume that $y\\sim y'\\sim y''$ and $\\epsilon_{machine}\\sim 10^{-15}$, h for forward difference is $4\\times 10^{-8}$ and h for central difference is $3\\times 10^{-5}$.\n",
    "\n",
    "**More importantly**, the limiting error for the forward difference is  $3\\times 10^{-8}$ and for the central difference is $3\\times 10^{-11}$. \n",
    "\n",
    "**A higher order scheme gets a more accurate result with a bigger interval. Win-Win**"
   ]
  },
  {
   "cell_type": "markdown",
   "metadata": {},
   "source": [
    "## 2.3 second derivative\n",
    "\n",
    "Do central difference twice. \n",
    "\\begin{equation}\n",
    "y''(x)=\\frac{y'(x+h/2)-y'(x-h/2)}{h}=\\frac{[y(x+h)-y(x)]-[y(x)-y(x-h)]}{h^2}=\\frac{y(x+h)+y(x-h)-2y(x)}{h^2}\n",
    "\\end{equation}"
   ]
  },
  {
   "cell_type": "code",
   "execution_count": 14,
   "metadata": {},
   "outputs": [],
   "source": [
    "import numpy as np\n",
    "import matplotlib.pyplot as plt\n",
    "\n",
    "# forward difference for the first derivative and central difference for the second derivative\n",
    "def dersecond1(y,x,dx):\n",
    "        return (y(x+3.*dx/2.)-y(x+dx/2.)-(y(x+dx/2.)-y(x-dx/2.)))/dx/dx\n",
    "    \n",
    "\n",
    "# please write your own central difference scheme for both derivatives\n",
    "def dersecond2(y,x,dx):\n",
    "        return (y(x+dx)+y(x-dx)-2*y(x))/(dx**2)"
   ]
  },
  {
   "cell_type": "code",
   "execution_count": 15,
   "metadata": {},
   "outputs": [
    {
     "data": {
      "image/png": "[encoded data removed]",
      "text/plain": [
       "<Figure size 432x288 with 1 Axes>"
      ]
     },
     "metadata": {
      "needs_background": "light"
     },
     "output_type": "display_data"
    }
   ],
   "source": [
    "import numpy as np\n",
    "import matplotlib.pyplot as plt\n",
    "x=1.0\n",
    "dxarr=[]\n",
    "yarr1=[]\n",
    "yarr2=[]\n",
    "\n",
    "for dx in 10**np.arange(-6., -0.5, 0.1):\n",
    "    y=dersecond1(np.sin,x,dx)\n",
    "    dxarr.append(dx)\n",
    "    yarr1.append(y)\n",
    "    y=dersecond2(np.sin,x,dx)\n",
    "    yarr2.append(y)\n",
    "    \n",
    "    \n",
    "plt.plot(dxarr, np.abs(yarr1+np.sin(1.)), 'b-', lw=2)  \n",
    "plt.plot(dxarr, np.abs(yarr2+np.sin(1.)), 'g-', lw=2)  \n",
    "plt.xscale('log')\n",
    "plt.yscale('log')\n",
    "plt.xlabel('dx')\n",
    "plt.ylabel('Error')\n",
    "\n",
    "plt.show()"
   ]
  },
  {
   "cell_type": "markdown",
   "metadata": {},
   "source": [
    "# Integration\n",
    "\n",
    "You want to calculate the total distance the space capsule has traveled:\n",
    "\\begin{equation}\n",
    "\\int_{a}^{b} v(t)dt\n",
    "\\end{equation}\n",
    "or\n",
    "\\begin{equation}\n",
    "\\int_{a}^{b} f(x)dx\n",
    "\\end{equation}\n",
    "\n",
    "The mathematic definition is\n",
    "\\begin{equation}\n",
    "\\int_{a}^{b} f(x)dx=lim_{h->0}\\left[h\\sum_{i=1}^{(b-a)/h}f(x_{i})\\right]\n",
    "\\end{equation}\n",
    "Computationally, we use finite sum over f(x) with width $w_{i}$,\n",
    "\n",
    "\\begin{equation}\n",
    "\\int_{a}^{b} f(x)dx\\sim\\sum_{i=1}^{N}f(x_{i})w_{i}\n",
    "\\end{equation}\n",
    "Different algorithms choose different $x_{i}$ and weight $w_{i}$\n",
    "\n",
    "Note: if there are singularity, remove it by hand first.\n",
    "\\begin{equation}\n",
    "\\int_{0}^{1}\\frac{f(x)dx}{\\sqrt{1-x^2}}=2\\int_{0}^{1}\\frac{f(1-y^2)dy}{\\sqrt{2-y^2}}\n",
    "\\end{equation}\n",
    "With $y^2=1-x$."
   ]
  },
  {
   "cell_type": "markdown",
   "metadata": {},
   "source": [
    "## 1. Trapezoid Rule\n",
    "\n",
    "Evenly spaced x, include the endpoints so that there are N-1 intervals. Each interval (h) is (b-a)/(N-1)\n",
    "\\begin{equation}\n",
    "\\int_{x_{i}}^{x_{i}+h}f(x)dx=h\\frac{f_{i}+f_{i+1}}{2}\n",
    "\\end{equation}\n",
    "So\n",
    "\\begin{eqnarray}\n",
    "\\int_{a}^{b}f(x)dx=\\frac{h}{2}f_{1}+h f_{2} + h f_{3}+......+h f_{N-1}+\\frac{h}{2}f_{N}\\\\\n",
    "=\\frac{h}{2}f(A)+h f(A+h) + h f(A+2h)+......+f(A+(N-2)*h)+\\frac{h}{2}f(B)\n",
    "\\end{eqnarray}"
   ]
  },
  {
   "cell_type": "code",
   "execution_count": 20,
   "metadata": {},
   "outputs": [],
   "source": [
    "def trapezoid(A,B,y,N):\n",
    "    h = (B-A)/(N-1)\n",
    "    sum = (y(A)+y(B))/2.*h\n",
    "    for i in range(1,N-1):\n",
    "        sum += h*(y(A+i*h))\n",
    "    return sum"
   ]
  },
  {
   "cell_type": "code",
   "execution_count": 21,
   "metadata": {},
   "outputs": [
    {
     "name": "stdout",
     "output_type": "stream",
     "text": [
      "1.999832163893992\n"
     ]
    }
   ],
   "source": [
    "import numpy as np # integrate sin(x) from 0 to pi\n",
    "print(trapezoid(0,np.pi,np.sin,100))"
   ]
  },
  {
   "cell_type": "code",
   "execution_count": 32,
   "metadata": {},
   "outputs": [
    {
     "data": {
      "image/png": "[encoded data removed]",
      "text/plain": [
       "<Figure size 432x288 with 1 Axes>"
      ]
     },
     "metadata": {
      "needs_background": "light"
     },
     "output_type": "display_data"
    }
   ],
   "source": [
    "# calculate the error of the integration sin(x) from 0 to pi when N increase from 10 to 10^7 points\n",
    "\n",
    "import numpy as np\n",
    "import matplotlib.pyplot as plt\n",
    "\n",
    "narr=np.array([])\n",
    "yarr=np.array([])\n",
    "\n",
    "for i in 10**np.arange(1,7,0.2):\n",
    "    y =  trapezoid(0,np.pi,np.sin,int(i))# finish this line for integration\n",
    "    narr=np.append(narr,int(i))\n",
    "    yarr=np.append(yarr,y)\n",
    "    \n",
    "#finish this line for plotting\n",
    "plt.plot(narr,abs(yarr-2.)/2.)\n",
    "plt.xscale('log')\n",
    "plt.yscale('log')\n",
    "plt.xlabel('N')\n",
    "plt.ylabel('Error')\n",
    "plt.show()\n"
   ]
  },
  {
   "cell_type": "markdown",
   "metadata": {},
   "source": [
    "## 2. Simpson's Rule\n",
    "\n",
    "Approximate the integrand f(x) by a parabolar for each equally spaced interval\n",
    "\\begin{equation}\n",
    "f(x)=\\alpha x^2 +\\beta x+\\gamma\n",
    "\\end{equation}\n",
    "We have \n",
    "\\begin{equation}\n",
    "\\int_{x_{i}}^{x_{i}+h}f(x)dx=\\frac{\\alpha x^3}{3} + \\frac{\\beta x^2}{2}+\\gamma x \\bigg\\rvert_{x_{i}}^{x_{i}+h}\n",
    "\\end{equation}\n",
    "\\begin{eqnarray}\n",
    "\\int_{x_{i}-h}^{x_{i}+h}f(x)dx&=&(\\frac{\\alpha x^3}{3} + \\frac{\\beta x^2}{2}+\\gamma x) \\bigg\\rvert_{x_{i}-h}^{x_{i}+h}\\\\\n",
    "&=&\\frac{\\alpha (x_{i}+h)^3}{3} + \\frac{\\beta (x_{i}+h)^2}{2}+\\gamma (x_{i}+h) - \\frac{\\alpha (x_{i}-h)^3}{3} - \\frac{\\beta (x_{i}-h)^2}{2}-\\gamma (x_{i}-h)\\\\\n",
    "&=&\\frac{\\alpha (6x_{i}^2 h+2 h^3)}{3} + \\frac{\\beta 4 x_{i}h}{2}+\\gamma 2h\n",
    "\\end{eqnarray}\n",
    "We have\n",
    "\\begin{eqnarray}\n",
    "f(x_{i}+h)&=&\\alpha(x_{i}+h)^2+\\beta(x_{i}+h)+\\gamma\\\\\n",
    "f(x_{i})&=&\\alpha x_{i}^2+\\beta x_{i}+\\gamma\\\\\n",
    "f(x_{i}-h)&=&\\alpha(x_{i}-h)^2+\\beta(x_{i}-h)+\\gamma\n",
    "\\end{eqnarray}\n",
    "So that\n",
    "\\begin{equation}\n",
    "\\frac{h}{3}f(x_{i}-h)+\\frac{4 h}{3}f(x_{i})+\\frac{h}{3}f(x_{i}+h)=\\frac{2\\alpha h}{3}(x_{i}^2+h^2)+\\frac{2\\beta h}{3}(x_{i})+\\frac{2\\gamma h}{3}+\\frac{4 h}{3}(\\alpha x_{i}^2+\\beta x_{i}+\\gamma)\n",
    "\\end{equation}\n",
    "\n",
    "\\begin{equation}\n",
    "\\boxed{\\int_{x_{i}-h}^{x_{i}+h}f(x)dx=\\frac{h}{3}f_{i-1}+\\frac{4h}{3}f_{i}+\\frac{h}{3}f_{i+1}}\n",
    "\\end{equation}\n",
    "\\begin{equation}\n",
    "\\boxed{\\int_{a}^{b}f(x)dx=\\frac{h}{3}f_{1}+\\frac{4h}{3}f_{2}+\\frac{2h}{3}f_{3}+\\frac{4h}{3}f_{4}+...+\\frac{4h}{3}f_{N-3}+\\frac{2h}{3}f_{N-2}+\\frac{4h}{3}f_{N-1}+\\frac{h}{3}f_{N}}\n",
    "\\end{equation}\n",
    "**Note: N must be odd for Simpson's rule**"
   ]
  },
  {
   "cell_type": "code",
   "execution_count": 39,
   "metadata": {},
   "outputs": [],
   "source": [
    "def Simpson(A,B,y,N):\n",
    "    if(N%2==0):\n",
    "        print(\"N needs to be odd for Simpson's rule\")\n",
    "        return 0;\n",
    "\n",
    "    h = (B-A)/(N-1)\n",
    "    sum = (y(A)+y(B))/3.*h+y(B-h)*4./3.*h\n",
    "    for i in range(2,N-1):\n",
    "        if(i%2==0):\n",
    "            sum += (4*h/3)*(y(A+(i-1)*h))\n",
    "        if(i%2==1):\n",
    "            sum += (2*h/3)*(y(A+(i-1)*h))\n",
    "\n",
    "    return sum"
   ]
  },
  {
   "cell_type": "code",
   "execution_count": 40,
   "metadata": {},
   "outputs": [
    {
     "data": {
      "image/png": "[encoded data removed]",
      "text/plain": [
       "<Figure size 432x288 with 1 Axes>"
      ]
     },
     "metadata": {
      "needs_background": "light"
     },
     "output_type": "display_data"
    }
   ],
   "source": [
    "import numpy as np\n",
    "import matplotlib.pyplot as plt\n",
    "\n",
    "narr=np.array([])\n",
    "yarr2=np.array([])\n",
    "\n",
    "for i in 10**np.arange(1,7,0.2):\n",
    "    y=Simpson(0,np.pi,np.sin,int(i/2)*2+1)\n",
    "    narr=np.append(narr,int(i/2)*2+1)\n",
    "    yarr2=np.append(yarr2,y)\n",
    "    \n",
    "plt.plot(narr, np.abs(yarr2-2.), 'b-', lw=2)   \n",
    "plt.plot(narr, np.abs(yarr-2.), 'g-', lw=2) \n",
    "plt.xscale('log')\n",
    "plt.yscale('log')\n",
    "plt.xlabel('N')\n",
    "plt.ylabel('Error')\n",
    "plt.show()"
   ]
  },
  {
   "cell_type": "markdown",
   "metadata": {},
   "source": [
    "## Error Assessment\n",
    "\n",
    "\\begin{equation}\n",
    "\\int_{x_{i}}^{x_{i}+h}f(x)dx=\\int_{x_{i}}^{x_{i+1}} (f(x_{i})+f'(x_{i})(x-x_{i})+\\frac{f''(x_{i})}{2}(x-x_{i})^2+...)dx=f_{x_{i}}h+f'(x_{i})\\frac{h^2}{2}+f''(x_{i})\\frac{h^3}{6}+...\n",
    "\\end{equation}\n",
    "\\begin{equation}\n",
    "\\int_{x_{i}}^{x_{i}+h}f(x)dx=\\int_{x_{i}}^{x_{i+1}} (f(x_{i+1})+f'(x_{i+1})(x-x_{i+1})+\\frac{f''(x_{i+1})}{2}(x-x_{i+1})^2+...)dx=f_{x_{i+1}}h-f'(x_{i+1})\\frac{h^2}{2}+f''(x_{i+1})\\frac{h^3}{6}+...\n",
    "\\end{equation}\n",
    "\n",
    "Add these two equations together and divide it by a factor of 2 and consider that $f'(x_{i})$ and $f'(x_{i+1})$ differ by h f'', we get\n",
    "\\begin{equation}\n",
    "\\int_{x_{i}}^{x_{i}+h}f(x)dx=\\frac{h}{2}(f_{x_{i}}+f_{x_{i+1}})+O(f''h^3)\n",
    "\\end{equation}\n",
    "So the total absolute error for the entire region is O($f''h^3 N$) or O($f''(b-a)^3/N^2$) for the Trapezoid rule and O($f''h^5 N$) or O($f''(b-a)^5/N^4$) for the Simpson's rule.\n",
    "\n",
    "The round-off error after N operations is $\\sqrt{N}\\epsilon_{m}$ where $\\epsilon_{m}$ is the machine precision. Normally, the algorithm has the smallest error when the truncation error equals the round-off error.\n",
    "\\begin{equation}\n",
    "\\sqrt{N}\\epsilon_{m}\\sim \\frac{f''(b-a)^3}{f N^2}\\sim \\frac{1}{N^2}\n",
    "\\end{equation}\n",
    "\n",
    "Since $\\epsilon_{m}\\sim 10^{-15}$, $N\\sim 10^6$ and the error is $10^{-12}$\n",
    "\n",
    "For the Simpson's rule, $\\sqrt{N}\\epsilon_{m}\\sim 1/N^4$. We have $N=2154$ and the error is 5$\\times 10^{-14}$."
   ]
  },
  {
   "cell_type": "markdown",
   "metadata": {},
   "source": [
    "## 3. Gaussian Quadrature (Optional)\n",
    "\n",
    "Change the integration [a,b] to [-1,1]\n",
    "\\begin{equation}\n",
    "\\int_{a}^{b}f(\\eta)d\\eta=\\frac{b-a}{2}\\int_{-1}^{1}f(\\frac{b-a}{2}x+\\frac{b+a}{2})dx \n",
    "\\end{equation}\n",
    "The book provides some other mapping from [-1,1] to e.g. [0,$\\infty$],[-$\\infty$,$\\infty$],[a,$\\infty$],[0,b]\n",
    "\n",
    "So we only need to calculate integrals with\n",
    "\\begin{equation}\n",
    "\\int_{-1}^{1}f(x)d x=\\sum_{i=1}^{n}w_{i}f(x_{i})\n",
    "\\end{equation}\n",
    "We want to choose $w_{i}$ and $x_{i}$ so that the equaltion is exact if $f(x)$ is the polynomial with\n",
    "order of 2n-1 or less.\n",
    "\n",
    "The Gauss-Legendre method uses the Legendre polynomials.\n",
    "The Legendre polynomials $P_{n}(x)$ form an orthogonal basis set for real-valued functions defined on [-1,1].\n",
    "Any k degree polynomial can be expanded with $P_{n}(x)$ up to the degree of k:\n",
    "\\begin{equation}\n",
    "f_{k}(x)=\\sum_{m=0}^{k}c_{m}P_{m}(x)\n",
    "\\end{equation}\n",
    "From Wiki\n",
    "![From Wiki](https://wikimedia.org/api/rest_v1/media/math/render/svg/23c28016951473c3ac55ed5512895376dc00b1c3)\n",
    "![From Wiki](https://upload.wikimedia.org/wikipedia/commons/thumb/c/c8/Legendrepolynomials6.svg/640px-Legendrepolynomials6.svg.png)\n",
    "If we plug in $f(x)=x^kP_{n}(x)$ into the above Equation, we have\n",
    "\\begin{equation}\n",
    "\\int_{-1}^{1}x^k P_{n}(x)d x=\\sum_{i=1}^{n}w_{i}x_{i}^kP_{n}(x_{i})\n",
    "\\end{equation}\n",
    "If $k<n$, it is zero. This will be satisfied if $x_{i}$ is the root of $P_{n}$.\n",
    "\\begin{equation}\n",
    "P_{n}(x_{i})=0, i=1,2,...,n-1\n",
    "\\end{equation}\n",
    "\n",
    "Now $x_{i}$ is determined, we will skip the derivation for $w_{i}$ and give the results directly\n",
    "\\begin{equation}\n",
    "w_{i}=\\frac{2}{(1-x_{i}^2)[P_{n}'(x_{i})]^2}, i=1,2,...,n\n",
    "\\end{equation}"
   ]
  },
  {
   "cell_type": "markdown",
   "metadata": {},
   "source": [
    "### How to derive $x_{i}$ and Pn'($x_{i}$)?\n",
    "\n",
    "Orthogonal polynomials are derived from the so-called generating function. Writing out them\n",
    "explicitly is too complicated. Normally we calculate them using the recurrence relation\n",
    "\\begin{equation}\n",
    "a_{n}f_{n}(x)=(b_n+c_n x)f_{n-1}(x)-d_n f_{n-2}(x)\n",
    "\\end{equation}\n",
    "For the derivative, \n",
    "\\begin{equation}\n",
    "g_{2}(x)f_n'(x)=g_{1}(x)f_n(x)+g_0(x)f_{n-1}(x)\n",
    "\\end{equation}\n",
    "(the derviatives also compose an orthogonal system themselves)\n",
    "For $P_{n}(x)$, $a_n=n$, $b_{n}=0$, $c_{n}=2n-1$, $d_n=n-1$, $f_0(x)=1$, $f_1(x)=x$, $g_0(x)=n$, $g_1(x)=-nx$, $g_2(x)=1-x^2$ "
   ]
  },
  {
   "cell_type": "code",
   "execution_count": 6,
   "metadata": {},
   "outputs": [],
   "source": [
    "\"\"\" From \"COMPUTATIONAL PHYSICS\", 3rd Ed, Enlarged Python eTextBook  \n",
    "    by RH Landau, MJ Paez, and CC Bordeianu\n",
    "    Copyright Wiley-VCH Verlag GmbH & Co. KGaA, Berlin;  Copyright R Landau,\n",
    "    Oregon State Unv, MJ Paez, Univ Antioquia, C Bordeianu, Univ Bucharest, 2015.\n",
    "    Support by National Science Foundation\"\"\"\n",
    "\n",
    "# IntegGauss.py: Gaussian quadrature generator of pts & wts\n",
    " \n",
    "from numpy import *\n",
    "from sys import version    \n",
    "\n",
    "w = zeros((2001), float)\n",
    "x = zeros((2001), float)\n",
    "\n",
    "def gauss(npts, job, a, b, x, w):\n",
    "    m  = i = j = t = t1 = pp = p1 = p2 = p3 = 0.  \n",
    "    eps = 3.E-15                  # Accuracy: ******ADJUST THIS*******!\n",
    "    m = int((npts + 1)/2 )\n",
    "    for i in range(1, m + 1):\n",
    "        t = cos(math.pi*(float(i) - 0.25)/(float(npts) + 0.5) ) # initial guess of x_i\n",
    "        t1 = 1 \n",
    "        while( (abs(t - t1) ) >= eps):  # iteration until it converges \n",
    "            p1 = 1. ;  p2 = 0.  \n",
    "            for j in range(1, npts + 1):\n",
    "                p3 = p2;   p2 = p1 \n",
    "                p1 = ((2.*float(j)-1)*t*p2 - (float(j)-1.)*p3)/(float(j)) # Pn using recurrence relation\n",
    "            pp = npts*(t*p1 - p2)/(t*t - 1.)  # derivative using recurrence relation \n",
    "            t1 = t; t = t1  -  p1/pp       # interation to get x_i using Newton-Raphson method\n",
    "        x[i - 1] = - t;   x[npts - i] = t \n",
    "        w[i - 1] = 2./( (1. - t*t)*pp*pp) \n",
    "        w[npts - i] = w[i - 1]  \n",
    "    if (job == 0):\n",
    "        for i in range(0, npts):\n",
    "            x[i] = x[i]*(b - a)/2. + (b + a)/2. \n",
    "            w[i] = w[i]*(b - a)/2. \n",
    "    if (job == 1):\n",
    "        for i in range(0, npts):\n",
    "            xi   = x[i]\n",
    "            x[i] = a*b*(1. + xi) / (b + a - (b - a)*xi) \n",
    "            w[i] = w[i]*2.*a*b*b/( (b + a - (b-a)*xi)*(b + a - (b-a)*xi))\n",
    "    if (job == 2):\n",
    "        for i in range(0, npts):\n",
    "            xi = x[i]\n",
    "            x[i] = (b*xi +  b + a + a) / (1. - xi) \n",
    "            w[i] = w[i]*2.*(a + b)/( (1. - xi)*(1. - xi) )\n",
    "            \n",
    "def gaussint (no, min, max, f):\n",
    "    quadra = 0.  \n",
    "    gauss (no, 0, min, max, x, w)                     # Returns pts & wts\n",
    "    for n in  range(0, no):\n",
    "        quadra   += f(x[n]) * w[n]                   # Calculate integral\n",
    "    return (quadra)                   "
   ]
  },
  {
   "cell_type": "code",
   "execution_count": 7,
   "metadata": {},
   "outputs": [
    {
     "data": {
      "image/png": "[encoded data removed]",
      "text/plain": [
       "<matplotlib.figure.Figure at 0x113592f98>"
      ]
     },
     "metadata": {},
     "output_type": "display_data"
    }
   ],
   "source": [
    "import numpy as np\n",
    "import matplotlib.pyplot as plt\n",
    "\n",
    "narr2=np.array([])\n",
    "yarr3=np.array([])\n",
    "\n",
    "for i in 10**np.arange(0,3,0.1):\n",
    "    y=gaussint(int(i),0,np.pi,np.sin)\n",
    "    narr2=np.append(narr2,int(i))\n",
    "    yarr3=np.append(yarr3,y)\n",
    "plt.plot(narr2, np.abs(yarr3-2.), 'b-', lw=2)   \n",
    "plt.plot(narr, np.abs(yarr2-2.), 'r-', lw=2)   \n",
    "plt.plot(narr, np.abs(yarr-2.), 'g-', lw=2) \n",
    "plt.xscale('log')\n",
    "plt.yscale('log')\n",
    "plt.xlabel('N')\n",
    "plt.ylabel('Error')\n",
    "plt.show()\n",
    "\n"
   ]
  },
  {
   "cell_type": "markdown",
   "metadata": {},
   "source": [
    "### Error Assessment\n",
    "\n",
    "If f($\\eta$) is beyond 2n-1 polynomial, we have\n",
    "\\begin{equation}\n",
    "\\int_{a}^{b}f(\\eta)d\\eta=\\frac{b-a}{2}\\sum_{i=1}^{n}w_{i}f(\\eta_{i})+\\frac{(b-a)^{2n+1}(n!)^4}{(2n+1)[(2n)!]^3}f^{2n}(\\eta)\n",
    "\\end{equation}\n",
    "where\n",
    "\\begin{equation}\n",
    "\\eta_{i}=\\frac{b-a}{2}x_{i}+\\frac{b+a}{2}\n",
    "\\end{equation}\n"
   ]
  },
  {
   "cell_type": "code",
   "execution_count": 8,
   "metadata": {},
   "outputs": [
    {
     "name": "stdout",
     "output_type": "stream",
     "text": [
      "4.759687154487254e-15\n"
     ]
    }
   ],
   "source": [
    "# Error for sin(x)\n",
    "import numpy as np\n",
    "n=8\n",
    "error=pow(3.14,(2*n+1))*pow(np.math.factorial(n),4)/(2*n+1)/pow(np.math.factorial(2*n),3)\n",
    "print(error)"
   ]
  },
  {
   "cell_type": "code",
   "execution_count": 9,
   "metadata": {},
   "outputs": [
    {
     "data": {
      "image/png": "[encoded data removed]",
      "text/plain": [
       "<matplotlib.figure.Figure at 0x1135757b8>"
      ]
     },
     "metadata": {},
     "output_type": "display_data"
    }
   ],
   "source": [
    "import numpy as np\n",
    "import matplotlib.pyplot as plt\n",
    "\n",
    "def x12(x): return pow(x,13)\n",
    "\n",
    "\n",
    "narr2=np.array([])\n",
    "yarr3=np.array([])\n",
    "\n",
    "for i in range(1,15):\n",
    "    y=gaussint(i,0,1,x12)\n",
    "    narr2=np.append(narr2,int(i))\n",
    "    yarr3=np.append(yarr3,y)\n",
    "plt.plot(narr2, np.abs(yarr3-1./14), 'b-', lw=2)   \n",
    "plt.yscale('log')\n",
    "plt.xlabel('N')\n",
    "plt.ylabel('Error')\n",
    "plt.show()\n",
    "\n",
    "\n",
    "\n",
    "# write a function e.g. f(x)=x^13, show that the integration is exact when n=7 (2n-1=13)\n"
   ]
  },
  {
   "cell_type": "markdown",
   "metadata": {},
   "source": [
    "# Homework:\n",
    "\n",
    "Write a program to numerically evaluate the derivative of f(x)=cos x at an arbitrary position x.\n",
    "\n",
    "1) Evaluate the derivative at position x using the forward difference scheme. Plot log(Error)=log10|f’(numerically)-f’(analytic)| against log10(dx) for dx=1e-16,1e-15,….,0.1 at x=π/4. You should find Error~$dx^n$; what is n? what is the optimal value for dx.\n",
    "\n",
    "2) Repeat the exercise using the central difference scheme. Why this scheme is better?\n",
    "\n",
    "3) Repeat (2) for x=0. Why do the results differ? (hint: write out the error term derived in the class explicitly by plugging the derivative of cos or sin)"
   ]
  },
  {
   "cell_type": "code",
   "execution_count": null,
   "metadata": {},
   "outputs": [],
   "source": []
  }
 ],
 "metadata": {
  "kernelspec": {
   "display_name": "Python 3 (ipykernel)",
   "language": "python",
   "name": "python3"
  },
  "language_info": {
   "codemirror_mode": {
    "name": "ipython",
    "version": 3
   },
   "file_extension": ".py",
   "mimetype": "text/x-python",
   "name": "python",
   "nbconvert_exporter": "python",
   "pygments_lexer": "ipython3",
   "version": "3.9.9"
  }
 },
 "nbformat": 4,
 "nbformat_minor": 2
}
