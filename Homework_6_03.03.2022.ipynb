{
 "cells": [
  {
   "cell_type": "code",
   "execution_count": 21,
   "id": "7c7283d2",
   "metadata": {},
   "outputs": [],
   "source": [
    "import numpy as np\n",
    "import matplotlib.pyplot as plt"
   ]
  },
  {
   "cell_type": "markdown",
   "id": "2a19a526",
   "metadata": {},
   "source": [
    "A different way we can do this simulation is with the kinematic equation we have below\n",
    "\n",
    "$z=v_{z}*t-\\frac{1}{2}*g*t^{2}$\n",
    "\n",
    "The initial velocity is considered a constant, so to get the first derivative of the equation would give the formula below.\n",
    "\n",
    "$\\frac{dz}{dt}=v_{z}-g*t$\n",
    "\n",
    "We know that the initial z-position is 0, and the initial velocity is 10$\\frac{m}{s}$, that g is a constant 9.8$\\frac{m}{s^{2}}$.\n",
    "\n",
    "Analytically, we know that the ball will be in the air for __2.041__ seconds, so we can increment t by __0.05__ seconds to see the trajectory over that time period.\n",
    "\n",
    "This ode is different from the one we used in class because it only has 1 variable, but it uses the Runge-Kutta method of using the integral of what we are looking for to find the future values of the variable"
   ]
  },
  {
   "cell_type": "markdown",
   "id": "6d6a3574",
   "metadata": {},
   "source": [
    "### Runge-Kutta Method\n"
   ]
  },
  {
   "cell_type": "code",
   "execution_count": 22,
   "id": "d6ce64b8",
   "metadata": {},
   "outputs": [],
   "source": [
    "def rg4(t, h, z):\n",
    "    #Zero out the different k values used for correction\n",
    "    k1 = 0\n",
    "    k2 = 0\n",
    "    k3 = 0\n",
    "    k4 = 0\n",
    "    \n",
    "    #Begin assigning those values\n",
    "    k1=h*f(t,z)\n",
    "    k2=h*f(t+0.5*h,z+0.5*k1)\n",
    "    k3=h*f(t+0.5*h,z+0.5*k2)\n",
    "    k4=h*f(t+h,z+k3)\n",
    "\n",
    "    #apply these corrections to the original y\n",
    "    z+=1./6.*(k1+2*k2+2*k3+k4)\n",
    "    return z"
   ]
  },
  {
   "cell_type": "markdown",
   "id": "50759858",
   "metadata": {},
   "source": [
    "### Function Declaration & Initialization"
   ]
  },
  {
   "cell_type": "code",
   "execution_count": 32,
   "id": "a214380d",
   "metadata": {},
   "outputs": [],
   "source": [
    "def f(t, z):\n",
    "    fv = 10-9.8*t #This is the derivative of the position equation\n",
    "    return fv\n",
    "\n",
    "#These are the boundary variables used to calculate the trajectory\n",
    "t=0.01\n",
    "tend = 2.05\n",
    "h=0.01\n",
    "\n",
    "#These variables will store the values\n",
    "tp=[]\n",
    "vz=[] #this is the position, but I named it vz because I'm working with the velocity\n",
    "\n",
    "z = 10 #initial velocity\n",
    "\n",
    "while(t<tend):\n",
    "    #Check to see if the time has exceed the maximum, then we can just find an answer close enough\n",
    "    if((t+h)>tend):\n",
    "        h=tend-t\n",
    "    z = rg4(t, h, z) #call the runge-kutta method\n",
    "    #zh=np.append(zh, z[0]) #append the new height\n",
    "    vz=np.append(vz, z)\n",
    "    tp=np.append(tp, t) #save the time\n",
    "    t=t+h #move up the time\n",
    "    "
   ]
  },
  {
   "cell_type": "markdown",
   "id": "2a9e106f",
   "metadata": {},
   "source": [
    "### Graph"
   ]
  },
  {
   "cell_type": "code",
   "execution_count": 33,
   "id": "9edf825f",
   "metadata": {},
   "outputs": [
    {
     "data": {
      "image/png": "[encoded data removed]",
      "text/plain": [
       "<Figure size 432x288 with 1 Axes>"
      ]
     },
     "metadata": {
      "needs_background": "light"
     },
     "output_type": "display_data"
    }
   ],
   "source": [
    "vz = [p - 10. for p in vz]\n",
    "plt.plot(vz, tp)\n",
    "plt.show()"
   ]
  },
  {
   "cell_type": "markdown",
   "id": "8fa0ee7a",
   "metadata": {},
   "source": [
    "### Forces Method"
   ]
  },
  {
   "cell_type": "markdown",
   "id": "a0b772c5",
   "metadata": {},
   "source": [
    "I'm going to use the forces that we used in class. The graviational force is the only force working on the ball. The formula for acceleration is the one below.\n",
    "\n",
    "$ \\frac{dv}{dt} = -\\frac{GM}{r^2}$"
   ]
  },
  {
   "cell_type": "code",
   "execution_count": 47,
   "id": "b0ffc3b7",
   "metadata": {},
   "outputs": [],
   "source": [
    "def rg4(t, h, z, n):\n",
    "    #Zero out the different k values used for correction\n",
    "    k1 = np.zeros(n)\n",
    "    k2 = np.zeros(n)\n",
    "    k3 = np.zeros(n)\n",
    "    k4 = np.zeros(n)\n",
    "    \n",
    "    #Begin assigning those values\n",
    "    k1=h*f(t,z)\n",
    "    k2=h*f(t+0.5*h,z+0.5*k1)\n",
    "    k3=h*f(t+0.5*h,z+0.5*k2)\n",
    "    k4=h*f(t+h,z+k3)\n",
    "\n",
    "    #apply these corrections to the original y\n",
    "    z+=1./6.*(k1+2*k2+2*k3+k4)\n",
    "    return z"
   ]
  },
  {
   "cell_type": "code",
   "execution_count": 48,
   "id": "a086aa4c",
   "metadata": {},
   "outputs": [],
   "source": [
    "#This is the function\n",
    "def f(t, z):\n",
    "    f = np.zeros(2)\n",
    "    r = 6.3781e6 #this is the radius of the earth\n",
    "    r += np.sqrt(z[0]**2) #as the ball is going up, you need to add to the current radius poition\n",
    "   \n",
    "    #------\n",
    "    f[0] = z[1] #save the velocity\n",
    "    f[1] = -G*M/r/r #find the next acceleration\n",
    "    return f\n",
    "\n",
    "#These are the value of the constants for the gravitation constant, and the mass of the earth\n",
    "#I can't treat the earth as a point, so you need the actual constant values for this to work\n",
    "G = 6.67408e-11\n",
    "M = 5.972e24\n",
    "\n",
    "#These are the boundary values fo rht eloop\n",
    "t = 0.\n",
    "tend = 2.05\n",
    "h = 0.01\n",
    "\n",
    "#This stores the values\n",
    "tp =[]\n",
    "zp = []\n",
    "\n",
    "#z[0] -> position, z[1] -> velocity\n",
    "z = [1., 10.]\n",
    "\n",
    "while(t<tend):\n",
    "    \n",
    "    #check for the end of the conditional\n",
    "    if((t + h) >= tend):\n",
    "        h = tend - t\n",
    "        \n",
    "    #start the runge-kutta method\n",
    "    z = rg4(t, h, z, 2)\n",
    "    \n",
    "    #save the values\n",
    "    zp = np.append(zp, z[0])\n",
    "    t+=h\n",
    "    tp = np.append(tp, t)\n",
    "    "
   ]
  },
  {
   "cell_type": "code",
   "execution_count": 49,
   "id": "fe4fdfd6",
   "metadata": {},
   "outputs": [
    {
     "data": {
      "image/png": "[encoded data removed]",
      "text/plain": [
       "<Figure size 432x288 with 1 Axes>"
      ]
     },
     "metadata": {
      "needs_background": "light"
     },
     "output_type": "display_data"
    }
   ],
   "source": [
    "#This is the plot of the system\n",
    "zp = [z - 1. for z in zp] #account that I started the position at 1 instead of 0 so I can do the intial division\n",
    "plt.plot(zp, tp)\n",
    "plt.show()"
   ]
  },
  {
   "cell_type": "code",
   "execution_count": null,
   "id": "3c64b654",
   "metadata": {},
   "outputs": [],
   "source": []
  }
 ],
 "metadata": {
  "kernelspec": {
   "display_name": "Python 3 (ipykernel)",
   "language": "python",
   "name": "python3"
  },
  "language_info": {
   "codemirror_mode": {
    "name": "ipython",
    "version": 3
   },
   "file_extension": ".py",
   "mimetype": "text/x-python",
   "name": "python",
   "nbconvert_exporter": "python",
   "pygments_lexer": "ipython3",
   "version": "3.9.9"
  }
 },
 "nbformat": 4,
 "nbformat_minor": 5
}
