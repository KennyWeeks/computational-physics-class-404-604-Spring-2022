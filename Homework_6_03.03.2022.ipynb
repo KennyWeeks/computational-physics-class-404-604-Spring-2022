{
 "cells": [
  {
   "cell_type": "code",
   "execution_count": 1,
   "id": "7c7283d2",
   "metadata": {},
   "outputs": [],
   "source": [
    "import numpy as np\n",
    "import matplotlib.pyplot as plt"
   ]
  },
  {
   "cell_type": "markdown",
   "id": "2a19a526",
   "metadata": {},
   "source": [
    "So the equation we will be using is this:\n",
    "\n",
    "$z=v_{z}*t-\\frac{1}{2}*g*t^{2}$\n",
    "\n",
    "This can be rewritten in such a way that the first derivative of the position $v_{z}$ is to the left of the equation, like so:\n",
    "\n",
    "$-v_{z}*t = -\\frac{1}{2}*g*t^{2}-z$\n",
    "\n",
    "(--- ODE notation ---)\n",
    "\n",
    "$\\frac{dz}{dt}*t = \\frac{1}{2}*g*t^{2}+z$\n",
    "\n",
    "$\\frac{dz}{dt} = \\frac{1}{2}*g*t + \\frac{z}{t}$\n",
    "\n",
    "We know that the initial z-position is 0, and the initial velocity is 10$\\frac{m}{s}$, that g is a constant 9.8$\\frac{m}{s^{2}}$.\n",
    "\n",
    "Analytically, we know that the ball will be in the air for __2.041__ seconds, so we can increment t by __0.05__ seconds to see the trajectory over that time period "
   ]
  },
  {
   "cell_type": "markdown",
   "id": "6d6a3574",
   "metadata": {},
   "source": [
    "### Runge-Kutta Method\n"
   ]
  },
  {
   "cell_type": "code",
   "execution_count": 204,
   "id": "d6ce64b8",
   "metadata": {},
   "outputs": [],
   "source": [
    "def rg4(t, h, z):\n",
    "    #Zero out the different k values used for correction\n",
    "    k1 = 0\n",
    "    k2 = 0\n",
    "    k3 = 0\n",
    "    k4 = 0\n",
    "    \n",
    "    #Begin assigning those values\n",
    "    k1=h*f(t,z)\n",
    "    k2=h*f(t+0.5*h,z+0.5*k1)\n",
    "    k3=h*f(t+0.5*h,z+0.5*k2)\n",
    "    k4=h*f(t+h,z+k3)\n",
    "\n",
    "    #apply these corrections to the original y\n",
    "    z+=1./6.*(k1+2*k2+2*k3+k4)\n",
    "    return z"
   ]
  },
  {
   "cell_type": "markdown",
   "id": "50759858",
   "metadata": {},
   "source": [
    "### Function Declaration & Initialization"
   ]
  },
  {
   "cell_type": "code",
   "execution_count": 210,
   "id": "a214380d",
   "metadata": {},
   "outputs": [],
   "source": [
    "#z : z[0] --> position, z[1] --> velocity\n",
    "g=9.8\n",
    "def f(t, z):\n",
    "    fv = 10-9.8*t\n",
    "    return fv\n",
    "\n",
    "t=0.01\n",
    "tend = 2.05\n",
    "h=0.01\n",
    "\n",
    "tp=[0]\n",
    "zh=[0]\n",
    "vz=[10]\n",
    "\n",
    "z = 10\n",
    "\n",
    "while(t<tend):\n",
    "    #Check to see if the time has exceed the maximum, then we can just find an answer close enough\n",
    "    if((t+h)>tend):\n",
    "        h=tend-t\n",
    "    z = rg4(t, h, z) #call the runge-kutta method\n",
    "    #zh=np.append(zh, z[0]) #append the new height\n",
    "    vz=np.append(vz, z)\n",
    "    tp=np.append(tp, t) #save the time\n",
    "    t=t+h #move up the time\n",
    "    "
   ]
  },
  {
   "cell_type": "markdown",
   "id": "2a9e106f",
   "metadata": {},
   "source": [
    "### Graph"
   ]
  },
  {
   "cell_type": "code",
   "execution_count": 213,
   "id": "d7be2df1",
   "metadata": {},
   "outputs": [
    {
     "data": {
      "image/png": "[encoded data removed]",
      "text/plain": [
       "<Figure size 432x288 with 1 Axes>"
      ]
     },
     "metadata": {
      "needs_background": "light"
     },
     "output_type": "display_data"
    }
   ],
   "source": [
    "pos = list()\n",
    "t=0.01\n",
    "p = 0\n",
    "for i in vz:\n",
    "    p += i*t-(1/2)*9.8*t**2\n",
    "    pos.append(p)\n",
    "    #t+=0.01\n",
    "plt.plot(pos, tp)\n",
    "plt.show()"
   ]
  },
  {
   "cell_type": "code",
   "execution_count": 214,
   "id": "9edf825f",
   "metadata": {},
   "outputs": [
    {
     "data": {
      "image/png": "[encoded data removed]",
      "text/plain": [
       "<Figure size 432x288 with 1 Axes>"
      ]
     },
     "metadata": {
      "needs_background": "light"
     },
     "output_type": "display_data"
    }
   ],
   "source": [
    "plt.plot(vz, tp)\n",
    "plt.show()"
   ]
  },
  {
   "cell_type": "code",
   "execution_count": null,
   "id": "d9b2b5f4",
   "metadata": {},
   "outputs": [],
   "source": []
  }
 ],
 "metadata": {
  "kernelspec": {
   "display_name": "Python 3 (ipykernel)",
   "language": "python",
   "name": "python3"
  },
  "language_info": {
   "codemirror_mode": {
    "name": "ipython",
    "version": 3
   },
   "file_extension": ".py",
   "mimetype": "text/x-python",
   "name": "python",
   "nbconvert_exporter": "python",
   "pygments_lexer": "ipython3",
   "version": "3.9.9"
  }
 },
 "nbformat": 4,
 "nbformat_minor": 5
}
