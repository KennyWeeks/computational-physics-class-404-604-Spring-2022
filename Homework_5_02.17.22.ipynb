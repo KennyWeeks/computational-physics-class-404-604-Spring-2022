{
 "cells": [
  {
   "cell_type": "code",
   "execution_count": 2,
   "id": "9bbe2b8c",
   "metadata": {},
   "outputs": [],
   "source": [
    "import numpy as np\n",
    "import matplotlib.pyplot as plt"
   ]
  },
  {
   "cell_type": "code",
   "execution_count": 3,
   "id": "0a40167c",
   "metadata": {},
   "outputs": [],
   "source": [
    "#Just taking the already defined functions from the lectures\n",
    "# f1: x1^2+x1*x2=10\n",
    "# f2: x2+3x1*x2^2=57\n",
    "def f1(x1, x2):\n",
    "    return (x1*x1+x1*x2-10.)\n",
    "\n",
    "def f2(x1,x2):\n",
    "    return (x2+3*x1*x2*x2-57)\n",
    "\n",
    "#These are the functions that weren't defined from the lectures\n",
    "def f1x1(x1, x2, dx):\n",
    "    #this is the derivative of the first function with respect to x1\n",
    "    #use CDM\n",
    "    return (f1(x1+(dx/2), x2)-f1(x1-(dx/2), x2))/(dx) \n",
    "\n",
    "def f1x2(x1, x2, dx):\n",
    "    #this is the derivative of the first function with respect to x2\n",
    "    #use CDM\n",
    "    return (f1(x1, x2+(dx/2))-f1(x1, x2-(dx/2)))/(dx) \n",
    "\n",
    "def f2x1(x1, x2, dx):\n",
    "    #this is the derivative of the first function with respect to x1\n",
    "    #use CDM\n",
    "    return (f2(x1+(dx/2), x2)-f2(x1-(dx/2), x2))/(dx)\n",
    "\n",
    "def f2x2(x1, x2, dx):\n",
    "    #this is the derivative of the first function with respect to x2\n",
    "    #use CDM\n",
    "    return (f2(x1, x2+(dx/2))-f2(x1, x2-(dx/2)))/(dx)\n",
    "\n",
    "def dx1(f1, f2, f1x1, f1x2, f2x1, f2x2, x1, x2):\n",
    "    num = (f1x2 * f2(x1, x2)) - (f2x2 * f1(x1, x2))\n",
    "    den = (f1x1*f2x2 - f1x2*f2x1)\n",
    "    return num/den\n",
    "\n",
    "def dx2(f1,f2,f1x1,f1x2,f2x1,f2x2,x1,x2):\n",
    "    num = (f2x1 * f1(x1, x2)) - (f1x1 * f2(x1, x2))\n",
    "    den = (f1x1*f2x2 - f1x2*f2x1)\n",
    "    return num/den"
   ]
  },
  {
   "cell_type": "code",
   "execution_count": 4,
   "id": "0355b23c",
   "metadata": {},
   "outputs": [
    {
     "name": "stdout",
     "output_type": "stream",
     "text": [
      "Here are the values for x1 -> 1.9997476221292805 and x2 -> 3.0001017144612887\n"
     ]
    }
   ],
   "source": [
    "dx = 1e-6 #This is 10^-6 for the differential step\n",
    "x1 = 1.5\n",
    "x2 = 3.5\n",
    "eps = 1e-8 #this is 10^-8 for when the values are found\n",
    "\n",
    "for i in range(100):\n",
    "    a = f1x1(x1, x2, dx)\n",
    "    b = f1x2(x1, x2, dx)\n",
    "    c = f2x1(x1, x2, dx)\n",
    "    d = f2x2(x1, x2, dx)\n",
    "    \n",
    "    x1 = x1+dx1(f1, f2, a, b, c, d, x1, x2)\n",
    "    x2 = x2+dx2(f1, f2, a, b, c, d, x1, x2)\n",
    "    \n",
    "    if f1(x1, x2) < eps and f2(x1, x2) < eps:\n",
    "        print(\"Here are the values for x1 -> \" + str(x1) + \" and x2 -> \" + str(x2))\n",
    "        break"
   ]
  },
  {
   "cell_type": "code",
   "execution_count": 14,
   "id": "82944fd1",
   "metadata": {},
   "outputs": [
    {
     "name": "stdout",
     "output_type": "stream",
     "text": [
      "Here are the values for x1 -> 1.9999999941983466 and x2 -> 3.000000022949697 in 46 iterations\n"
     ]
    }
   ],
   "source": [
    "#This is something I'm going to attempt, I just want to see what will happen if I pick \n",
    "#an initial guess that is very far out there\n",
    "\n",
    "dx = 1e-6 #This is 10^-6 for the differential step\n",
    "x1 = -20\n",
    "x2 = 20\n",
    "eps = 1e-8 #this is 10^-8 for when the values are found\n",
    "it = 0\n",
    "\n",
    "while abs(f1(x1, x2)) >= eps and abs(f2(x1, x2)) >= eps:\n",
    "    a = f1x1(x1, x2, dx)\n",
    "    b = f1x2(x1, x2, dx)\n",
    "    c = f2x1(x1, x2, dx)\n",
    "    d = f2x2(x1, x2, dx)\n",
    "\n",
    "    x1 = x1+dx1(f1, f2, a, b, c, d, x1, x2)\n",
    "    x2 = x2+dx2(f1, f2, a, b, c, d, x1, x2)\n",
    "    \n",
    "    it += 1\n",
    "    \n",
    "print(\"Here are the values for x1 -> \" + str(x1) + \" and x2 -> \" + str(x2) + \" in \" + str(it) + \" iterations\")"
   ]
  },
  {
   "cell_type": "code",
   "execution_count": null,
   "id": "00443940",
   "metadata": {},
   "outputs": [],
   "source": []
  }
 ],
 "metadata": {
  "kernelspec": {
   "display_name": "Python 3 (ipykernel)",
   "language": "python",
   "name": "python3"
  },
  "language_info": {
   "codemirror_mode": {
    "name": "ipython",
    "version": 3
   },
   "file_extension": ".py",
   "mimetype": "text/x-python",
   "name": "python",
   "nbconvert_exporter": "python",
   "pygments_lexer": "ipython3",
   "version": "3.9.9"
  }
 },
 "nbformat": 4,
 "nbformat_minor": 5
}
