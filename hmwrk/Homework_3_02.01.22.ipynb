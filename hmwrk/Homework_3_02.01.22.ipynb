{
 "cells": [
  {
   "cell_type": "markdown",
   "id": "eb8c6ea3",
   "metadata": {},
   "source": [
    "# Lec3-pre Homework"
   ]
  },
  {
   "cell_type": "code",
   "execution_count": 1,
   "id": "f6e0b331",
   "metadata": {},
   "outputs": [],
   "source": [
    "import numpy as np\n",
    "import matplotlib.pyplot as plt\n",
    "import time"
   ]
  },
  {
   "cell_type": "markdown",
   "id": "2abeb65a",
   "metadata": {},
   "source": [
    "# Question 1"
   ]
  },
  {
   "cell_type": "code",
   "execution_count": 2,
   "id": "17f37dc8",
   "metadata": {},
   "outputs": [
    {
     "data": {
      "text/plain": [
       "354224848179261915075"
      ]
     },
     "execution_count": 2,
     "metadata": {},
     "output_type": "execute_result"
    }
   ],
   "source": [
    "#1. This is the first part of the assignment, writting a Fibonnaci Sequence with memoization, and the\n",
    "#comparing F(n)/F(n+1) into a graph\n",
    "\n",
    "#This is where the numbers will be stored\n",
    "numbers = [None]*(101)\n",
    "def memo(n, table):\n",
    "    if n == 0 or n == 1:\n",
    "        table[n] = n\n",
    "    \n",
    "    if table[n] == None:\n",
    "        table[n] = memo(n-1, table) + memo(n-2, table)\n",
    "        \n",
    "    return table[n]\n",
    "\n",
    "memo(100, numbers)"
   ]
  },
  {
   "cell_type": "code",
   "execution_count": 3,
   "id": "49747099",
   "metadata": {},
   "outputs": [
    {
     "name": "stdout",
     "output_type": "stream",
     "text": [
      "Hello\n"
     ]
    }
   ],
   "source": [
    "if len(numbers) == 101:\n",
    "    print(\"Hello\")\n",
    "    numbers = numbers[1:] #Don't need to save 0"
   ]
  },
  {
   "cell_type": "code",
   "execution_count": 4,
   "id": "1e897430",
   "metadata": {},
   "outputs": [],
   "source": [
    "dom = np.arange(1,100,1) #I want to make a domain for the plot"
   ]
  },
  {
   "cell_type": "code",
   "execution_count": 5,
   "id": "2cd2d73e",
   "metadata": {},
   "outputs": [],
   "source": [
    "rang = list(); #This will be the range of the plot\n",
    "for i in dom:\n",
    "    rang.append(numbers[i]/numbers[i-1]) #This is the ration I will be plotting"
   ]
  },
  {
   "cell_type": "code",
   "execution_count": 6,
   "id": "680433d7",
   "metadata": {},
   "outputs": [
    {
     "data": {
      "image/png": "[encoded data removed]",
      "text/plain": [
       "<Figure size 432x288 with 1 Axes>"
      ]
     },
     "metadata": {
      "needs_background": "light"
     },
     "output_type": "display_data"
    }
   ],
   "source": [
    "#Will make the plot here\n",
    "plt.plot(dom, rang, \"b-\") #I just want to make it a blue line\n",
    "plt.show()"
   ]
  },
  {
   "cell_type": "markdown",
   "id": "7ec05123",
   "metadata": {},
   "source": [
    "# Question 2"
   ]
  },
  {
   "cell_type": "markdown",
   "id": "b488bb3d",
   "metadata": {},
   "source": [
    "### Recursive Method"
   ]
  },
  {
   "cell_type": "markdown",
   "id": "75c01fa1",
   "metadata": {},
   "source": [
    "#### --Method Declaration--"
   ]
  },
  {
   "cell_type": "code",
   "execution_count": 8,
   "id": "1815d288",
   "metadata": {},
   "outputs": [],
   "source": [
    "#2. This is the second part of the assignment, building the fibonacci sequence with other methods, \n",
    "#and seeing how they work\n",
    "\n",
    "#This will be the recursive method\n",
    "def recurseFib(n):\n",
    "    if n == 1:\n",
    "        return 1\n",
    "    elif n == 0:\n",
    "        return 0\n",
    "    else:\n",
    "        return recurseFib(n-1) + recurseFib(n-2)"
   ]
  },
  {
   "cell_type": "markdown",
   "id": "d2ad9a99",
   "metadata": {},
   "source": [
    "#### --Timing Calculation--"
   ]
  },
  {
   "cell_type": "code",
   "execution_count": 9,
   "id": "d50e8aeb",
   "metadata": {},
   "outputs": [
    {
     "name": "stdout",
     "output_type": "stream",
     "text": [
      "finished 40\n",
      "Done\n"
     ]
    }
   ],
   "source": [
    "#Run a timer for different n values\n",
    "\"\"\"tic = time.perf_counter()\n",
    "ans = recurseFib(40)\n",
    "toc = time.perf_counter()\n",
    "print(f\"{toc-tic:0.4f}\")\n",
    "print(ans)\"\"\"\n",
    "import sys\n",
    "\n",
    "times = dict() #This is the dictionary that will hold the times\n",
    "\"\"\"for i in np.arange(1, 43, 3):\n",
    "    #Start timing the process\n",
    "    \n",
    "    ans = recurseFib(i) #This will just hold the return\n",
    "    \n",
    "    times[str(i)] = toc - tic #Find the difference in time\n",
    "    print(\"Finished \" + str(i))\"\"\"\n",
    "\n",
    "for i in np.arange(1, 43, 3):\n",
    "    tic = time.time()\n",
    "    ans = recurseFib(i)\n",
    "    times[str(i)] = time.time() - tic\n",
    "    if i < 43:\n",
    "        sys.stdout.write(\"finished \" + str(i) + \"\\r\")\n",
    "        sys.stdout.flush()\n",
    "        \n",
    "print()\n",
    "print(\"Done\")\n",
    "    \n",
    "    \n",
    "    \n",
    "#I don't think my computer can handle 2^n where n is 100, I just uses all available memory and doesn't finish"
   ]
  },
  {
   "cell_type": "markdown",
   "id": "6dc9369d",
   "metadata": {},
   "source": [
    "#### --Save and Graph--"
   ]
  },
  {
   "cell_type": "code",
   "execution_count": 10,
   "id": "9394f8ee",
   "metadata": {},
   "outputs": [
    {
     "data": {
      "image/png": "[encoded data removed]",
      "text/plain": [
       "<Figure size 432x288 with 2 Axes>"
      ]
     },
     "metadata": {
      "needs_background": "light"
     },
     "output_type": "display_data"
    }
   ],
   "source": [
    "#So everything has been calculated, save to a file specifically for recursive .txt\n",
    "#save the iteration and time pairs into a folder\n",
    "with open(\"./output_hw3/recursive.txt\", \"w\") as file:\n",
    "    file.write(\"Recursive Method\\n\")\n",
    "    for i in times.keys():\n",
    "        file.write(i + \"\\t\" + str(times[i]) + \"\\n\") #write these numbers to a file\n",
    "\n",
    "#This will be the x and y array that will be used in the plot\n",
    "x = list()\n",
    "y = list()\n",
    "x2 = list() #I just want to save recursive as an int\n",
    "\n",
    "#read from the file\n",
    "with open(\"./output_hw3/recursive.txt\", \"r\") as file:\n",
    "    line = file.readline() #read a line\n",
    "    while line:\n",
    "        if line.split()[0] != \"Recursive\": #read everything but the Header\n",
    "            x.append(np.log10(int(line.split()[0]))) #find the base-10 log of the iterations\n",
    "            x2.append(int(line.split()[0])) #just save the numerical iterations\n",
    "            y.append(np.log10(float(line.split()[1]))) #convert the time back to a float\n",
    "        line = file.readline()\n",
    "        \n",
    "#plot the graph\n",
    "\"\"\"plt.plot(x, y)\n",
    "plt.ylabel(\"log10 time\")\n",
    "plt.xlabel(\"log10 iterations\")\"\"\"\n",
    "plt.figure(1)\n",
    "plt.subplot(211)\n",
    "plt.plot(x, y)\n",
    "plt.ylabel(\"log10 time\")\n",
    "plt.subplot(212)\n",
    "plt.plot(x2, y)\n",
    "plt.ylabel(\"log10 time\")\n",
    "plt.xlabel(\"Top - log10 iterations || Bottom - n iterations\")\n",
    "plt.show()"
   ]
  },
  {
   "cell_type": "markdown",
   "id": "47ec797e",
   "metadata": {},
   "source": [
    "#### --Complexity Analysis--"
   ]
  },
  {
   "cell_type": "markdown",
   "id": "6934b198",
   "metadata": {},
   "source": [
    "Without graphing the ouptut, it can be shown that the recursive method for the Fibonacci sequence is of a complexity: O($2^n$)\n",
    "\n",
    "This is because with every recursion downwards, two more recursive function calls are made. That's of order $2^n$, and that can be seen in the graph $log(time)$ agains n (iterations)"
   ]
  },
  {
   "cell_type": "markdown",
   "id": "fbd4a83e",
   "metadata": {},
   "source": [
    "### Matrix Method"
   ]
  },
  {
   "cell_type": "markdown",
   "id": "2d91b8fb",
   "metadata": {},
   "source": [
    "#### --Method Declarations--"
   ]
  },
  {
   "cell_type": "code",
   "execution_count": 11,
   "id": "155b90b7",
   "metadata": {},
   "outputs": [],
   "source": [
    "#This is the matrix method\n",
    "#starting = np.array([[1,1],[1, 0]]) #The answers are different if they are\n",
    "#used in a numpy array\n",
    "starting = [[1,1],[1,0]]\n",
    "\n",
    "#This is ripped directly from the lecture, I rewrote it below, and I want to use that for the timing\n",
    "\"\"\"def inClassMatrix(arr, n):\n",
    "    yarr = arr\n",
    "    if n<1:\n",
    "        print('n needs to be larger than 1')\n",
    "    if n==1:\n",
    "        return arr\n",
    "    yarr = matrix(arr, n//2)\n",
    "    yarr = [[yarr[0][0]*yarr[0][0]+yarr[0][1]*yarr[1][0],yarr[0][0]*yarr[0][1]+yarr[0][1]*yarr[1][1]],\n",
    "            [yarr[1][0]*yarr[0][0]+yarr[1][1]*yarr[1][0],yarr[1][0]*yarr[0][1]+yarr[1][1]*yarr[1][1]]]\n",
    "    if n%2:\n",
    "        yarr=[[yarr[0][0]*arr[0][0]+yarr[0][1]*arr[1][0],yarr[0][0]*arr[0][1]+yarr[0][1]*arr[1][1]],\n",
    "            [yarr[1][0]*arr[0][0]+yarr[1][1]*arr[1][0],yarr[1][0]*arr[0][1]+yarr[1][1]*arr[1][1]]]\n",
    "    return yarr\"\"\"\n",
    "\n",
    "#I just rewrote the same code as above, but I used np.array and np.matmul\n",
    "#which allow multidimensional arrays to act as matrixes to solve the problem\n",
    "def matrix(arr, n):\n",
    "    yarr = arr\n",
    "    #This check is so see if we need to recurse down further\n",
    "    if n<1:\n",
    "        print('n needs to be larger than 1')\n",
    "        return\n",
    "    if n==1:\n",
    "        return arr\n",
    "    yarr = matrix(arr, n//2) #recurse down further if you need too\n",
    "    yarr = np.matmul(yarr, yarr) #multiply the newly found matrixes together\n",
    "    \n",
    "    #If it's odd, do it again to account for the array that was lost in the recursion\n",
    "    if n % 2:\n",
    "        yarr = np.matmul(yarr, arr)\n",
    "        \n",
    "    return yarr"
   ]
  },
  {
   "cell_type": "markdown",
   "id": "d5b3a906",
   "metadata": {},
   "source": [
    "#### --Timing Calculation--"
   ]
  },
  {
   "cell_type": "code",
   "execution_count": 12,
   "id": "26c9a755",
   "metadata": {},
   "outputs": [
    {
     "name": "stdout",
     "output_type": "stream",
     "text": [
      "n needs to be larger than 1\n",
      "Finished calculating matrix method\n"
     ]
    }
   ],
   "source": [
    "times = dict() #This is the dictionary that will hold the times\n",
    "\n",
    "i = 1\n",
    "while i < 10**6:\n",
    "    arr = np.array([[1,1],[1,0]]) #Restart the array that will hold the answer\n",
    "    arr = arr.astype(np.object) #I need to transform this into a numpy array that isn't int32\n",
    "    tic = time.perf_counter() #begin counter\n",
    "    matrix(arr, i - 1) #calcualte the iteration\n",
    "    toc = time.perf_counter() #finish counter\n",
    "    times[str(i)] = toc - tic #save time\n",
    "    i *= 10\n",
    "\n",
    "print(\"Finished calculating matrix method\")\n",
    "\n",
    "#print(compare(np.matrix(\"1 1: 1 0\", dtype=np.object)**100, 100-1)[0][0])\n",
    "#This is a one-line method I saw that does the same thing\n",
    "#print((np.matrix(\"1 1; 1 0\", dtype=np.object)**100).item(1)) "
   ]
  },
  {
   "cell_type": "markdown",
   "id": "b62cfb0a",
   "metadata": {},
   "source": [
    "#### --Save and Graph--"
   ]
  },
  {
   "cell_type": "code",
   "execution_count": 13,
   "id": "7109bb05",
   "metadata": {},
   "outputs": [
    {
     "data": {
      "image/png": "[encoded data removed]",
      "text/plain": [
       "<Figure size 432x288 with 2 Axes>"
      ]
     },
     "metadata": {
      "needs_background": "light"
     },
     "output_type": "display_data"
    }
   ],
   "source": [
    "#So everything has been calculated, save to a file specifically for matrix .txt\n",
    "#save the iteration and time pairs into a folder\n",
    "with open(\"./output_hw3/matrix.txt\", \"w\") as file:\n",
    "    file.write(\"Matrix Method\\n\")\n",
    "    for i in times.keys():\n",
    "        file.write(i + \"\\t\" + str(times[i]) + \"\\n\") #write these numbers to a file\n",
    "\n",
    "#This will be the x and y array that will be used in the plot\n",
    "x = list()\n",
    "y = list()\n",
    "x2 = list()\n",
    "\n",
    "#read from the file\n",
    "with open(\"./output_hw3/matrix.txt\", \"r\") as file:\n",
    "    line = file.readline() #read a line\n",
    "    while line:\n",
    "        if line.split()[0] != \"Matrix\": #read everything but the Header\n",
    "            x.append(np.log10(int(line.split()[0]))) #find the base-10 log of the iterations\n",
    "            x2.append(int(line.split()[0]))\n",
    "            y.append(np.log10(float(line.split()[1]))) #convert the time back to a float\n",
    "        line = file.readline()\n",
    "        \n",
    "#plot the graph\n",
    "plt.figure(1)\n",
    "plt.subplot(211)\n",
    "plt.plot(x, y)\n",
    "plt.ylabel(\"log10 time\")\n",
    "plt.subplot(212)\n",
    "plt.plot(x2, y)\n",
    "plt.ylabel(\"log10 time\")\n",
    "plt.xlabel(\"Top -> log10 iterations || Bottom -> n iterations\")\n",
    "plt.show()"
   ]
  },
  {
   "cell_type": "markdown",
   "id": "9e899d42",
   "metadata": {},
   "source": [
    "#### --Complexity Analysis--"
   ]
  },
  {
   "cell_type": "markdown",
   "id": "06018081",
   "metadata": {},
   "source": [
    "The complexity in this graph of $log(time)$ against $log(n)$ (iterations) looks like a quadratic graph. Therefore\n",
    "\n",
    "$log(time)$ = $(log(n))^2$\n",
    "\n",
    "time = $10^k$ where k = $(log(n))^2$\n",
    "\n",
    "time = n^2\n",
    "\n",
    "This follows a quadtractic complexity $O(n^2)$. Though the graph of $log(time)$ against n iterations shows a exponential decay."
   ]
  },
  {
   "cell_type": "markdown",
   "id": "11514c65",
   "metadata": {},
   "source": [
    "### Tabulation Method"
   ]
  },
  {
   "cell_type": "markdown",
   "id": "a377fb6f",
   "metadata": {},
   "source": [
    "#### --Method Declaration & Timing Calculation--"
   ]
  },
  {
   "cell_type": "code",
   "execution_count": 14,
   "id": "3ccea912",
   "metadata": {},
   "outputs": [
    {
     "name": "stdout",
     "output_type": "stream",
     "text": [
      "Finished calculating tabulation method\n"
     ]
    }
   ],
   "source": [
    "#This is the tabulation method\n",
    "table = [1,1] #This table will store the newest calculated value in the sequence\n",
    "def tabulated(n, table):\n",
    "    value = 0\n",
    "    #for loop in the range of the n-2, because the table already accounts for 2 numbers\n",
    "    for i in range(n-2):\n",
    "        value = table[0] + table[1] #add the previous two numbers\n",
    "        \n",
    "        #shift the table, so the newest value is the last element\n",
    "        table[0] = table[1]\n",
    "        table[1] = value\n",
    "        \n",
    "    return value\n",
    "\n",
    "times = dict() #create a dictionairy, this will store the times\n",
    "\n",
    "i = 1\n",
    "#goes from 1 to 10^6\n",
    "while i <= 10**6:\n",
    "    table = [1,1]\n",
    "    tic = time.perf_counter()\n",
    "    tabulated(i, table) #calculate the tabulation method\n",
    "    toc = time.perf_counter()\n",
    "    times[str(i)] = toc-tic #find the time that has elapsed\n",
    "    i *= 10 #increment\n",
    "\n",
    "print(\"Finished calculating tabulation method\")"
   ]
  },
  {
   "cell_type": "markdown",
   "id": "1e3ee06b",
   "metadata": {},
   "source": [
    "#### --Save and Graph--"
   ]
  },
  {
   "cell_type": "code",
   "execution_count": 15,
   "id": "b39927fd",
   "metadata": {},
   "outputs": [
    {
     "data": {
      "image/png": "[encoded data removed]",
      "text/plain": [
       "<Figure size 432x288 with 2 Axes>"
      ]
     },
     "metadata": {
      "needs_background": "light"
     },
     "output_type": "display_data"
    }
   ],
   "source": [
    "#save the iteration and time pairs into a folder\n",
    "with open(\"./output_hw3/tabulation.txt\", \"w\") as file:\n",
    "    file.write(\"Tabulation Method\\n\")\n",
    "    for i in times.keys():\n",
    "        file.write(i + \"\\t\" + str(times[i]) + \"\\n\") #write these numbers to a file\n",
    "\n",
    "#This will be the x and y array that will be used in the plot\n",
    "x = list()\n",
    "y = list()\n",
    "x2 = list()\n",
    "\n",
    "#read from the file\n",
    "with open(\"./output_hw3/tabulation.txt\", \"r\") as file:\n",
    "    line = file.readline() #read a line\n",
    "    while line:\n",
    "        if line.split()[0] != \"Tabulation\": #read everything but the Header\n",
    "            x.append(np.log10(int(line.split()[0]))) #find the base-10 log of the iterations\n",
    "            x2.append(int(line.split()[0]))\n",
    "            y.append(np.log10(float(line.split()[1]))) #convert the time back to a float\n",
    "        line = file.readline()\n",
    "\n",
    "#plot the graph\n",
    "plt.figure(1)\n",
    "plt.subplot(211)\n",
    "plt.plot(x, y)\n",
    "plt.ylabel(\"log10 time\")\n",
    "plt.subplot(212)\n",
    "plt.plot(x2, y)\n",
    "plt.ylabel(\"log10 time\")\n",
    "plt.xlabel(\"Top -> log10 iterations || Bottom -> n iterations\")\n",
    "plt.show()"
   ]
  },
  {
   "cell_type": "markdown",
   "id": "b2afee90",
   "metadata": {},
   "source": [
    "#### --Complexity Analysis--"
   ]
  },
  {
   "cell_type": "markdown",
   "id": "5a9a925b",
   "metadata": {},
   "source": [
    "The complexity of this method of the fibonacci sequence seems to be quadratic. The graph shows $log(time)$ against $log(n)$ (iterations), and this graph follows what looks like a line. Therefore\n",
    "\n",
    "$log(time)$ = c*$log(n)$\n",
    "\n",
    "time = $10^k$ where k = $log(n^c)$\n",
    "\n",
    "time = $n^c$\n",
    "\n",
    "where c is a constant. Therefore the complexity is $O(n^c)$ or $O(n^2)$ because of the binary nature of computers.\n",
    "\n",
    "Though, funny enough, graphing it with $log(time)$ against n, it looks like an exponential decay"
   ]
  },
  {
   "cell_type": "code",
   "execution_count": null,
   "id": "ee289aa2",
   "metadata": {},
   "outputs": [],
   "source": []
  }
 ],
 "metadata": {
  "kernelspec": {
   "display_name": "Python 3 (ipykernel)",
   "language": "python",
   "name": "python3"
  },
  "language_info": {
   "codemirror_mode": {
    "name": "ipython",
    "version": 3
   },
   "file_extension": ".py",
   "mimetype": "text/x-python",
   "name": "python",
   "nbconvert_exporter": "python",
   "pygments_lexer": "ipython3",
   "version": "3.9.10"
  }
 },
 "nbformat": 4,
 "nbformat_minor": 5
}
