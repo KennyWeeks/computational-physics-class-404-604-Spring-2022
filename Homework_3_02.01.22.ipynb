{
 "cells": [
  {
   "cell_type": "code",
   "execution_count": 35,
   "id": "f6e0b331",
   "metadata": {},
   "outputs": [],
   "source": [
    "import numpy as np\n",
    "import matplotlib.pyplot as plt\n",
    "import time"
   ]
  },
  {
   "cell_type": "code",
   "execution_count": 126,
   "id": "17f37dc8",
   "metadata": {},
   "outputs": [
    {
     "data": {
      "text/plain": [
       "354224848179261915075"
      ]
     },
     "execution_count": 126,
     "metadata": {},
     "output_type": "execute_result"
    }
   ],
   "source": [
    "#1. This is the first part of the assignment, writting a Fibonnaci Sequence with memoization, and the\n",
    "#comparing F(n)/F(n+1) into a graph\n",
    "\n",
    "#This is where the numbers will be stored\n",
    "numbers = [None]*(101)\n",
    "def memo(n, table):\n",
    "    if n == 0 or n == 1:\n",
    "        table[n] = n\n",
    "    \n",
    "    if table[n] == None:\n",
    "        table[n] = memo(n-1, table) + memo(n-2, table)\n",
    "        \n",
    "    return table[n]\n",
    "\n",
    "memo(100, numbers)"
   ]
  },
  {
   "cell_type": "code",
   "execution_count": 135,
   "id": "49747099",
   "metadata": {},
   "outputs": [
    {
     "name": "stdout",
     "output_type": "stream",
     "text": [
      "[2, 3, 5, 8, 13, 21, 34, 55, 89, 144, 233, 377, 610, 987, 1597, 2584, 4181, 6765, 10946, 17711, 28657, 46368, 75025, 121393, 196418, 317811, 514229, 832040, 1346269, 2178309, 3524578, 5702887, 9227465, 14930352, 24157817, 39088169, 63245986, 102334155, 165580141, 267914296, 433494437, 701408733, 1134903170, 1836311903, 2971215073, 4807526976, 7778742049, 12586269025, 20365011074, 32951280099, 53316291173, 86267571272, 139583862445, 225851433717, 365435296162, 591286729879, 956722026041, 1548008755920, 2504730781961, 4052739537881, 6557470319842, 10610209857723, 17167680177565, 27777890035288, 44945570212853, 72723460248141, 117669030460994, 190392490709135, 308061521170129, 498454011879264, 806515533049393, 1304969544928657, 2111485077978050, 3416454622906707, 5527939700884757, 8944394323791464, 14472334024676221, 23416728348467685, 37889062373143906, 61305790721611591, 99194853094755497, 160500643816367088, 259695496911122585, 420196140727489673, 679891637638612258, 1100087778366101931, 1779979416004714189, 2880067194370816120, 4660046610375530309, 7540113804746346429, 12200160415121876738, 19740274219868223167, 31940434634990099905, 51680708854858323072, 83621143489848422977, 135301852344706746049, 218922995834555169026, 354224848179261915075]\n",
      "98\n"
     ]
    }
   ],
   "source": [
    "numbers = numbers[0:] #Don't need to save 0\n",
    "print(numbers)\n",
    "print(len(numbers))"
   ]
  },
  {
   "cell_type": "code",
   "execution_count": 133,
   "id": "1e897430",
   "metadata": {},
   "outputs": [
    {
     "name": "stdout",
     "output_type": "stream",
     "text": [
      "[ 1  2  3  4  5  6  7  8  9 10 11 12 13 14 15 16 17 18 19 20 21 22 23 24\n",
      " 25 26 27 28 29 30 31 32 33 34 35 36 37 38 39 40 41 42 43 44 45 46 47 48\n",
      " 49 50 51 52 53 54 55 56 57 58 59 60 61 62 63 64 65 66 67 68 69 70 71 72\n",
      " 73 74 75 76 77 78 79 80 81 82 83 84 85 86 87 88 89 90 91 92 93 94 95 96\n",
      " 97 98 99]\n"
     ]
    }
   ],
   "source": [
    "dom = np.arange(1,100,1) #I want to make a domain for the plot\n",
    "print(dom)\n"
   ]
  },
  {
   "cell_type": "code",
   "execution_count": 134,
   "id": "2cd2d73e",
   "metadata": {},
   "outputs": [
    {
     "ename": "IndexError",
     "evalue": "list index out of range",
     "output_type": "error",
     "traceback": [
      "\u001b[0;31m---------------------------------------------------------------------------\u001b[0m",
      "\u001b[0;31mIndexError\u001b[0m                                Traceback (most recent call last)",
      "\u001b[0;32m/var/folders/_k/2mty61s53qv_0k67g1cbzvn40000gn/T/ipykernel_32543/2464938555.py\u001b[0m in \u001b[0;36m<module>\u001b[0;34m\u001b[0m\n\u001b[1;32m      1\u001b[0m \u001b[0mrang\u001b[0m \u001b[0;34m=\u001b[0m \u001b[0mlist\u001b[0m\u001b[0;34m(\u001b[0m\u001b[0;34m)\u001b[0m\u001b[0;34m;\u001b[0m \u001b[0;31m#This will be the range of the plot\u001b[0m\u001b[0;34m\u001b[0m\u001b[0;34m\u001b[0m\u001b[0m\n\u001b[1;32m      2\u001b[0m \u001b[0;32mfor\u001b[0m \u001b[0mi\u001b[0m \u001b[0;32min\u001b[0m \u001b[0mdom\u001b[0m\u001b[0;34m:\u001b[0m\u001b[0;34m\u001b[0m\u001b[0;34m\u001b[0m\u001b[0m\n\u001b[0;32m----> 3\u001b[0;31m     \u001b[0mrang\u001b[0m\u001b[0;34m.\u001b[0m\u001b[0mappend\u001b[0m\u001b[0;34m(\u001b[0m\u001b[0mnumbers\u001b[0m\u001b[0;34m[\u001b[0m\u001b[0mi\u001b[0m\u001b[0;34m]\u001b[0m\u001b[0;34m/\u001b[0m\u001b[0mnumbers\u001b[0m\u001b[0;34m[\u001b[0m\u001b[0mi\u001b[0m\u001b[0;34m-\u001b[0m\u001b[0;36m1\u001b[0m\u001b[0;34m]\u001b[0m\u001b[0;34m)\u001b[0m \u001b[0;31m#This is the ration I will be plotting\u001b[0m\u001b[0;34m\u001b[0m\u001b[0;34m\u001b[0m\u001b[0m\n\u001b[0m",
      "\u001b[0;31mIndexError\u001b[0m: list index out of range"
     ]
    }
   ],
   "source": [
    "rang = list(); #This will be the range of the plot\n",
    "for i in dom:\n",
    "    rang.append(numbers[i]/numbers[i-1]) #This is the ration I will be plotting"
   ]
  },
  {
   "cell_type": "code",
   "execution_count": 30,
   "id": "d5771b5d",
   "metadata": {},
   "outputs": [
    {
     "name": "stdout",
     "output_type": "stream",
     "text": [
      "[1.0, 2.0, 1.5, 1.6666666666666667, 1.6, 1.625, 1.6153846153846154, 1.619047619047619, 1.6176470588235294, 1.6181818181818182, 1.6179775280898876, 1.6180555555555556, 1.6180257510729614, 1.6180371352785146, 1.618032786885246, 1.618034447821682, 1.6180338134001253, 1.618034055727554, 1.6180339631667064, 1.6180339985218033, 1.618033985017358, 1.6180339901755971, 1.618033988205325, 1.618033988957902, 1.6180339886704431, 1.6180339887802426, 1.618033988738303, 1.6180339887543225, 1.6180339887482036, 1.6180339887505408, 1.6180339887496482, 1.618033988749989, 1.618033988749859, 1.6180339887499087, 1.6180339887498896, 1.618033988749897, 1.618033988749894, 1.6180339887498951, 1.6180339887498947, 1.618033988749895, 1.618033988749895, 1.618033988749895, 1.618033988749895, 1.618033988749895, 1.618033988749895, 1.618033988749895, 1.618033988749895, 1.618033988749895, 1.618033988749895, 1.618033988749895, 1.618033988749895, 1.618033988749895, 1.618033988749895, 1.618033988749895, 1.618033988749895, 1.618033988749895, 1.618033988749895, 1.618033988749895, 1.618033988749895, 1.618033988749895, 1.618033988749895, 1.618033988749895, 1.618033988749895, 1.618033988749895, 1.618033988749895, 1.618033988749895, 1.618033988749895, 1.618033988749895, 1.618033988749895, 1.618033988749895, 1.618033988749895, 1.618033988749895, 1.618033988749895, 1.618033988749895, 1.618033988749895, 1.618033988749895, 1.618033988749895, 1.618033988749895, 1.618033988749895, 1.618033988749895, 1.618033988749895, 1.618033988749895, 1.618033988749895, 1.618033988749895, 1.618033988749895, 1.618033988749895, 1.618033988749895, 1.618033988749895, 1.618033988749895, 1.618033988749895, 1.618033988749895, 1.618033988749895, 1.618033988749895, 1.618033988749895, 1.618033988749895, 1.618033988749895, 1.618033988749895, 1.618033988749895, 1.618033988749895]\n"
     ]
    }
   ],
   "source": [
    "print(rang)"
   ]
  },
  {
   "cell_type": "code",
   "execution_count": 32,
   "id": "680433d7",
   "metadata": {},
   "outputs": [
    {
     "data": {
      "image/png": "[encoded data removed]",
      "text/plain": [
       "<Figure size 432x288 with 1 Axes>"
      ]
     },
     "metadata": {
      "needs_background": "light"
     },
     "output_type": "display_data"
    }
   ],
   "source": [
    "#Will make the plot here\n",
    "plt.plot(dom, rang, \"b-\") #I just want to make it a blue line\n",
    "plt.show()"
   ]
  },
  {
   "cell_type": "code",
   "execution_count": 51,
   "id": "1815d288",
   "metadata": {},
   "outputs": [],
   "source": [
    "#2. This is the second part of the assignment, building the fibonacci sequence with other methods, \n",
    "#and seeing how they work\n",
    "\n",
    "#This will be the recursive method\n",
    "def recurseFib(n):\n",
    "    if n == 1:\n",
    "        return 1\n",
    "    elif n == 0:\n",
    "        return 0\n",
    "    else:\n",
    "        return recurseFib(n-1) + recurseFib(n-2)"
   ]
  },
  {
   "cell_type": "code",
   "execution_count": 65,
   "id": "d50e8aeb",
   "metadata": {},
   "outputs": [
    {
     "name": "stdout",
     "output_type": "stream",
     "text": [
      "28.6511\n",
      "102334155\n"
     ]
    }
   ],
   "source": [
    "#Run a timer for different n values\n",
    "tic = time.perf_counter()\n",
    "ans = recurseFib(40)\n",
    "toc = time.perf_counter()\n",
    "print(f\"{toc-tic:0.4f}\")\n",
    "print(ans)\n",
    "\n",
    "#I don't think my computer can handle 2^n where n is 100, I just uses all available memory and doesn't finish"
   ]
  },
  {
   "cell_type": "code",
   "execution_count": 58,
   "id": "46cb4a45",
   "metadata": {},
   "outputs": [],
   "source": [
    "#Write the n values to a text file\n",
    "with open(\"test.txt\", \"w\") as file:\n",
    "    file.writelines(\"Butt\")"
   ]
  },
  {
   "cell_type": "code",
   "execution_count": 114,
   "id": "155b90b7",
   "metadata": {},
   "outputs": [],
   "source": [
    "#This is the matrix method\n",
    "#starting = np.array([[1,1],[1, 0]]) #The answers are different if they are\n",
    "#used in a numpy array\n",
    "starting = [[1,1],[1,0]]\n",
    "\n",
    "def matrix(arr, n):\n",
    "    yarr = arr\n",
    "    if n<1:\n",
    "        print('n needs to be larger than 1')\n",
    "    if n==1:\n",
    "        return arr\n",
    "    yarr = matrix(arr, n//2)\n",
    "    yarr = [[yarr[0][0]*yarr[0][0]+yarr[0][1]*yarr[1][0],yarr[0][0]*yarr[0][1]+yarr[0][1]*yarr[1][1]],\n",
    "            [yarr[1][0]*yarr[0][0]+yarr[1][1]*yarr[1][0],yarr[1][0]*yarr[0][1]+yarr[1][1]*yarr[1][1]]]\n",
    "    if n%2:\n",
    "        yarr=[[yarr[0][0]*arr[0][0]+yarr[0][1]*arr[1][0],yarr[0][0]*arr[0][1]+yarr[0][1]*arr[1][1]],\n",
    "            [yarr[1][0]*arr[0][0]+yarr[1][1]*arr[1][0],yarr[1][0]*arr[0][1]+yarr[1][1]*arr[1][1]]]\n",
    "    return yarr"
   ]
  },
  {
   "cell_type": "code",
   "execution_count": 115,
   "id": "8726d61a",
   "metadata": {},
   "outputs": [
    {
     "name": "stdout",
     "output_type": "stream",
     "text": [
      "354224848179261915075 0.0001\n"
     ]
    }
   ],
   "source": [
    "tic = time.perf_counter()\n",
    "ansM = matrix(starting, 100-1)[0][0]\n",
    "toc = time.perf_counter()\n",
    "print(ansM, f\"{toc-tic:0.4f}\")"
   ]
  },
  {
   "cell_type": "code",
   "execution_count": 116,
   "id": "26c9a755",
   "metadata": {},
   "outputs": [
    {
     "name": "stdout",
     "output_type": "stream",
     "text": [
      "354224848179261915075\n",
      "354224848179261915075\n"
     ]
    }
   ],
   "source": [
    "#I just rewrote the same code as above, but I used np.array and np.matmul\n",
    "#which allow multidimensional arrays to act as matrixes to solve the problem\n",
    "def compare(arr, n):\n",
    "    yarr = arr\n",
    "    #This check is so see if we need to recurse down further\n",
    "    if n<1:\n",
    "        print('n needs to be larger than 1')\n",
    "    if n==1:\n",
    "        return arr\n",
    "    yarr = compare(arr, n//2) #recurse down further if you need too\n",
    "    yarr = np.matmul(yarr, yarr) #multiply the newly found matrixes together\n",
    "    #If it's odd, do it again to account for the array that was lost in the recursion\n",
    "    if n % 2:\n",
    "        yarr = np.matmul(yarr, arr)\n",
    "    return yarr\n",
    "\n",
    "arr = np.array(starting)\n",
    "arr = arr.astype(np.object) #change np.array type from int32 to any python object\n",
    "print(compare(arr, 99)[0][0])\n",
    "\n",
    "#print(compare(np.matrix(\"1 1: 1 0\", dtype=np.object)**100, 100-1)[0][0])\n",
    "#This is a one-line method I saw that does the same thing\n",
    "print((np.matrix(\"1 1; 1 0\", dtype=np.object)**100).item(1)) "
   ]
  },
  {
   "cell_type": "code",
   "execution_count": 123,
   "id": "3ccea912",
   "metadata": {},
   "outputs": [
    {
     "name": "stdout",
     "output_type": "stream",
     "text": [
      "354224848179261915075\n"
     ]
    }
   ],
   "source": [
    "#This is the tabulation method\n",
    "table = [1,1] #This table will store the newest calculated value in the sequence\n",
    "def tabulated(n, table):\n",
    "    value = 0\n",
    "    #for loop in the range of the n-2, because the table already accounts for 2 numbers\n",
    "    for i in range(n-2):\n",
    "        value = table[0] + table[1] #add the previous two numbers\n",
    "        \n",
    "        #shift the table, so the newest value is the last element\n",
    "        table[0] = table[1]\n",
    "        table[1] = value\n",
    "        \n",
    "    return value\n",
    "\n",
    "print(tabulated(100, table))"
   ]
  },
  {
   "cell_type": "code",
   "execution_count": null,
   "id": "b39927fd",
   "metadata": {},
   "outputs": [],
   "source": []
  }
 ],
 "metadata": {
  "kernelspec": {
   "display_name": "Python 3 (ipykernel)",
   "language": "python",
   "name": "python3"
  },
  "language_info": {
   "codemirror_mode": {
    "name": "ipython",
    "version": 3
   },
   "file_extension": ".py",
   "mimetype": "text/x-python",
   "name": "python",
   "nbconvert_exporter": "python",
   "pygments_lexer": "ipython3",
   "version": "3.9.9"
  }
 },
 "nbformat": 4,
 "nbformat_minor": 5
}
