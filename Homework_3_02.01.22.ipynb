{
 "cells": [
  {
   "cell_type": "code",
   "execution_count": 99,
   "id": "f6e0b331",
   "metadata": {},
   "outputs": [],
   "source": [
    "import numpy as np\n",
    "import matplotlib.pyplot as plt\n",
    "import time"
   ]
  },
  {
   "cell_type": "markdown",
   "id": "2abeb65a",
   "metadata": {},
   "source": [
    "# Question 1"
   ]
  },
  {
   "cell_type": "code",
   "execution_count": 48,
   "id": "17f37dc8",
   "metadata": {},
   "outputs": [
    {
     "data": {
      "text/plain": [
       "354224848179261915075"
      ]
     },
     "execution_count": 48,
     "metadata": {},
     "output_type": "execute_result"
    }
   ],
   "source": [
    "#1. This is the first part of the assignment, writting a Fibonnaci Sequence with memoization, and the\n",
    "#comparing F(n)/F(n+1) into a graph\n",
    "\n",
    "#This is where the numbers will be stored\n",
    "numbers = [None]*(101)\n",
    "def memo(n, table):\n",
    "    if n == 0 or n == 1:\n",
    "        table[n] = n\n",
    "    \n",
    "    if table[n] == None:\n",
    "        table[n] = memo(n-1, table) + memo(n-2, table)\n",
    "        \n",
    "    return table[n]\n",
    "\n",
    "memo(100, numbers)"
   ]
  },
  {
   "cell_type": "code",
   "execution_count": 63,
   "id": "49747099",
   "metadata": {},
   "outputs": [],
   "source": [
    "if len(numbers) == 101:\n",
    "    print(\"Hello\")\n",
    "    numbers = numbers[1:] #Don't need to save 0"
   ]
  },
  {
   "cell_type": "code",
   "execution_count": 64,
   "id": "1e897430",
   "metadata": {},
   "outputs": [],
   "source": [
    "dom = np.arange(1,100,1) #I want to make a domain for the plot"
   ]
  },
  {
   "cell_type": "code",
   "execution_count": 62,
   "id": "2cd2d73e",
   "metadata": {},
   "outputs": [],
   "source": [
    "rang = list(); #This will be the range of the plot\n",
    "for i in dom:\n",
    "    rang.append(numbers[i]/numbers[i-1]) #This is the ration I will be plotting"
   ]
  },
  {
   "cell_type": "code",
   "execution_count": 65,
   "id": "680433d7",
   "metadata": {},
   "outputs": [
    {
     "data": {
      "image/png": "[encoded data removed]",
      "text/plain": [
       "<Figure size 432x288 with 1 Axes>"
      ]
     },
     "metadata": {
      "needs_background": "light"
     },
     "output_type": "display_data"
    }
   ],
   "source": [
    "#Will make the plot here\n",
    "plt.plot(dom, rang, \"b-\") #I just want to make it a blue line\n",
    "plt.show()"
   ]
  },
  {
   "cell_type": "markdown",
   "id": "7ec05123",
   "metadata": {},
   "source": [
    "# Question 2"
   ]
  },
  {
   "cell_type": "markdown",
   "id": "aebc398d",
   "metadata": {},
   "source": [
    "### Recursive Method"
   ]
  },
  {
   "cell_type": "markdown",
   "id": "223241de",
   "metadata": {},
   "source": [
    "#### --Method Declaration--"
   ]
  },
  {
   "cell_type": "code",
   "execution_count": 100,
   "id": "1815d288",
   "metadata": {},
   "outputs": [],
   "source": [
    "#2. This is the second part of the assignment, building the fibonacci sequence with other methods, \n",
    "#and seeing how they work\n",
    "\n",
    "#This will be the recursive method\n",
    "def recurseFib(n):\n",
    "    if n == 1:\n",
    "        return 1\n",
    "    elif n == 0:\n",
    "        return 0\n",
    "    else:\n",
    "        return recurseFib(n-1) + recurseFib(n-2)"
   ]
  },
  {
   "cell_type": "markdown",
   "id": "873a9565",
   "metadata": {},
   "source": [
    "#### --Timing Calculation--"
   ]
  },
  {
   "cell_type": "code",
   "execution_count": 119,
   "id": "d50e8aeb",
   "metadata": {},
   "outputs": [
    {
     "name": "stdout",
     "output_type": "stream",
     "text": [
      "finished 40\n",
      "Done\n"
     ]
    }
   ],
   "source": [
    "#Run a timer for different n values\n",
    "\"\"\"tic = time.perf_counter()\n",
    "ans = recurseFib(40)\n",
    "toc = time.perf_counter()\n",
    "print(f\"{toc-tic:0.4f}\")\n",
    "print(ans)\"\"\"\n",
    "import sys\n",
    "\n",
    "times = dict() #This is the dictionary that will hold the times\n",
    "\"\"\"for i in np.arange(1, 43, 3):\n",
    "    #Start timing the process\n",
    "    \n",
    "    ans = recurseFib(i) #This will just hold the return\n",
    "    \n",
    "    times[str(i)] = toc - tic #Find the difference in time\n",
    "    print(\"Finished \" + str(i))\"\"\"\n",
    "\n",
    "for i in np.arange(1, 43, 3):\n",
    "    tic = time.time()\n",
    "    ans = recurseFib(i)\n",
    "    times[str(i)] = time.time() - tic\n",
    "    if i < 43:\n",
    "        sys.stdout.write(\"finished \" + str(i) + \"\\r\")\n",
    "        sys.stdout.flush()\n",
    "        \n",
    "print()\n",
    "print(\"Done\")\n",
    "    \n",
    "    \n",
    "    \n",
    "#I don't think my computer can handle 2^n where n is 100, I just uses all available memory and doesn't finish"
   ]
  },
  {
   "cell_type": "markdown",
   "id": "500d4d99",
   "metadata": {},
   "source": [
    "#### --Save and Graph--"
   ]
  },
  {
   "cell_type": "code",
   "execution_count": 120,
   "id": "9394f8ee",
   "metadata": {},
   "outputs": [
    {
     "data": {
      "image/png": "[encoded data removed]",
      "text/plain": [
       "<Figure size 432x288 with 1 Axes>"
      ]
     },
     "metadata": {
      "needs_background": "light"
     },
     "output_type": "display_data"
    }
   ],
   "source": [
    "#So everything has been calculated, save to a file specifically for recursive .txt\n",
    "#save the iteration and time pairs into a folder\n",
    "with open(\"./output_hw3/recursive.txt\", \"w\") as file:\n",
    "    file.write(\"Recursive Method\\n\")\n",
    "    for i in times.keys():\n",
    "        file.write(i + \"\\t\" + str(times[i]) + \"\\n\") #write these numbers to a file\n",
    "\n",
    "#This will be the x and y array that will be used in the plot\n",
    "x = list()\n",
    "y = list()\n",
    "\n",
    "#read from the file\n",
    "with open(\"./output_hw3/recursive.txt\", \"r\") as file:\n",
    "    line = file.readline() #read a line\n",
    "    while line:\n",
    "        if line.split()[0] != \"Recursive\": #read everything but the Header\n",
    "            x.append(np.log10(int(line.split()[0]))) #find the base-10 log of the iterations\n",
    "            y.append(np.log10(float(line.split()[1]))) #convert the time back to a float\n",
    "        line = file.readline()\n",
    "        \n",
    "#plot the graph\n",
    "plt.plot(x, y)\n",
    "plt.ylabel(\"log10 time\")\n",
    "plt.xlabel(\"log10 iterations\")\n",
    "plt.show()"
   ]
  },
  {
   "cell_type": "markdown",
   "id": "b1ec6188",
   "metadata": {},
   "source": [
    "### Matrix Method"
   ]
  },
  {
   "cell_type": "markdown",
   "id": "ac72d74d",
   "metadata": {},
   "source": [
    "#### --Method Declarations--"
   ]
  },
  {
   "cell_type": "code",
   "execution_count": 121,
   "id": "155b90b7",
   "metadata": {},
   "outputs": [],
   "source": [
    "#This is the matrix method\n",
    "#starting = np.array([[1,1],[1, 0]]) #The answers are different if they are\n",
    "#used in a numpy array\n",
    "starting = [[1,1],[1,0]]\n",
    "\n",
    "#This is ripped directly from the lecture, I rewrote it below, and I want to use that for the timing\n",
    "\"\"\"def inClassMatrix(arr, n):\n",
    "    yarr = arr\n",
    "    if n<1:\n",
    "        print('n needs to be larger than 1')\n",
    "    if n==1:\n",
    "        return arr\n",
    "    yarr = matrix(arr, n//2)\n",
    "    yarr = [[yarr[0][0]*yarr[0][0]+yarr[0][1]*yarr[1][0],yarr[0][0]*yarr[0][1]+yarr[0][1]*yarr[1][1]],\n",
    "            [yarr[1][0]*yarr[0][0]+yarr[1][1]*yarr[1][0],yarr[1][0]*yarr[0][1]+yarr[1][1]*yarr[1][1]]]\n",
    "    if n%2:\n",
    "        yarr=[[yarr[0][0]*arr[0][0]+yarr[0][1]*arr[1][0],yarr[0][0]*arr[0][1]+yarr[0][1]*arr[1][1]],\n",
    "            [yarr[1][0]*arr[0][0]+yarr[1][1]*arr[1][0],yarr[1][0]*arr[0][1]+yarr[1][1]*arr[1][1]]]\n",
    "    return yarr\"\"\"\n",
    "\n",
    "#I just rewrote the same code as above, but I used np.array and np.matmul\n",
    "#which allow multidimensional arrays to act as matrixes to solve the problem\n",
    "def matrix(arr, n):\n",
    "    yarr = arr\n",
    "    #This check is so see if we need to recurse down further\n",
    "    if n<1:\n",
    "        print('n needs to be larger than 1')\n",
    "        return\n",
    "    if n==1:\n",
    "        return arr\n",
    "    yarr = compare(arr, n//2) #recurse down further if you need too\n",
    "    yarr = np.matmul(yarr, yarr) #multiply the newly found matrixes together\n",
    "    \n",
    "    #If it's odd, do it again to account for the array that was lost in the recursion\n",
    "    if n % 2:\n",
    "        yarr = np.matmul(yarr, arr)\n",
    "        \n",
    "    return yarr"
   ]
  },
  {
   "cell_type": "markdown",
   "id": "5df3d4ad",
   "metadata": {},
   "source": [
    "#### --Timing Calculation--"
   ]
  },
  {
   "cell_type": "code",
   "execution_count": 122,
   "id": "26c9a755",
   "metadata": {},
   "outputs": [
    {
     "name": "stdout",
     "output_type": "stream",
     "text": [
      "n needs to be larger than 1\n",
      "Finished calculating matrix method\n"
     ]
    }
   ],
   "source": [
    "times = dict() #This is the dictionary that will hold the times\n",
    "\n",
    "i = 1\n",
    "while i < 10**6:\n",
    "    arr = np.array([[1,1],[1,0]]) #Restart the array that will hold the answer\n",
    "    arr = arr.astype(np.object) #I need to transform this into a numpy array that isn't int32\n",
    "    tic = time.perf_counter() #begin counter\n",
    "    matrix(arr, i - 1) #calcualte the iteration\n",
    "    toc = time.perf_counter() #finish counter\n",
    "    times[str(i)] = toc - tic #save time\n",
    "    i *= 10\n",
    "\n",
    "print(\"Finished calculating matrix method\")\n",
    "\n",
    "#print(compare(np.matrix(\"1 1: 1 0\", dtype=np.object)**100, 100-1)[0][0])\n",
    "#This is a one-line method I saw that does the same thing\n",
    "#print((np.matrix(\"1 1; 1 0\", dtype=np.object)**100).item(1)) "
   ]
  },
  {
   "cell_type": "markdown",
   "id": "d8fe1028",
   "metadata": {},
   "source": [
    "#### --Save and Graph--"
   ]
  },
  {
   "cell_type": "code",
   "execution_count": 123,
   "id": "7109bb05",
   "metadata": {},
   "outputs": [
    {
     "data": {
      "image/png": "[encoded data removed]",
      "text/plain": [
       "<Figure size 432x288 with 1 Axes>"
      ]
     },
     "metadata": {
      "needs_background": "light"
     },
     "output_type": "display_data"
    }
   ],
   "source": [
    "#So everything has been calculated, save to a file specifically for matrix .txt\n",
    "#save the iteration and time pairs into a folder\n",
    "with open(\"./output_hw3/matrix.txt\", \"w\") as file:\n",
    "    file.write(\"Matrix Method\\n\")\n",
    "    for i in times.keys():\n",
    "        file.write(i + \"\\t\" + str(times[i]) + \"\\n\") #write these numbers to a file\n",
    "\n",
    "#This will be the x and y array that will be used in the plot\n",
    "x = list()\n",
    "y = list()\n",
    "\n",
    "#read from the file\n",
    "with open(\"./output_hw3/matrix.txt\", \"r\") as file:\n",
    "    line = file.readline() #read a line\n",
    "    while line:\n",
    "        if line.split()[0] != \"Matrix\": #read everything but the Header\n",
    "            x.append(np.log10(int(line.split()[0]))) #find the base-10 log of the iterations\n",
    "            y.append(np.log10(float(line.split()[1]))) #convert the time back to a float\n",
    "        line = file.readline()\n",
    "        \n",
    "#plot the graph\n",
    "plt.plot(x, y)\n",
    "plt.ylabel(\"log10 time\")\n",
    "plt.xlabel(\"log10 iterations\")\n",
    "plt.show()"
   ]
  },
  {
   "cell_type": "markdown",
   "id": "e64e0da5",
   "metadata": {},
   "source": [
    "### Tabulation Method"
   ]
  },
  {
   "cell_type": "markdown",
   "id": "569ce640",
   "metadata": {},
   "source": [
    "##"
   ]
  },
  {
   "cell_type": "code",
   "execution_count": 84,
   "id": "3ccea912",
   "metadata": {},
   "outputs": [
    {
     "name": "stdout",
     "output_type": "stream",
     "text": [
      "Finished calculating tabulation method\n"
     ]
    }
   ],
   "source": [
    "#This is the tabulation method\n",
    "table = [1,1] #This table will store the newest calculated value in the sequence\n",
    "def tabulated(n, table):\n",
    "    value = 0\n",
    "    #for loop in the range of the n-2, because the table already accounts for 2 numbers\n",
    "    for i in range(n-2):\n",
    "        value = table[0] + table[1] #add the previous two numbers\n",
    "        \n",
    "        #shift the table, so the newest value is the last element\n",
    "        table[0] = table[1]\n",
    "        table[1] = value\n",
    "        \n",
    "    return value\n",
    "\n",
    "times = dict() #create a dictionairy, this will store the times\n",
    "\n",
    "i = 1\n",
    "#goes from 1 to 10^6\n",
    "while i <= 10**6:\n",
    "    table = [1,1]\n",
    "    tic = time.perf_counter()\n",
    "    tabulated(i, table) #calculate the tabulation method\n",
    "    toc = time.perf_counter()\n",
    "    times[str(i)] = toc-tic #find the time that has elapsed\n",
    "    i *= 10 #increment\n",
    "\n",
    "print(\"Finished calculating tabulation method\")"
   ]
  },
  {
   "cell_type": "code",
   "execution_count": 85,
   "id": "b39927fd",
   "metadata": {},
   "outputs": [
    {
     "data": {
      "image/png": "[encoded data removed]",
      "text/plain": [
       "<Figure size 432x288 with 1 Axes>"
      ]
     },
     "metadata": {
      "needs_background": "light"
     },
     "output_type": "display_data"
    }
   ],
   "source": [
    "#save the iteration and time pairs into a folder\n",
    "with open(\"./output_hw3/tabulation.txt\", \"w\") as file:\n",
    "    file.write(\"Tabulation Method\\n\")\n",
    "    for i in times.keys():\n",
    "        file.write(i + \"\\t\" + str(times[i]) + \"\\n\") #write these numbers to a file\n",
    "\n",
    "#This will be the x and y array that will be used in the plot\n",
    "x = list()\n",
    "y = list()\n",
    "\n",
    "#read from the file\n",
    "with open(\"./output_hw3/tabulation.txt\", \"r\") as file:\n",
    "    line = file.readline() #read a line\n",
    "    while line:\n",
    "        if line.split()[0] != \"Tabulation\": #read everything but the Header\n",
    "            x.append(np.log10(int(line.split()[0]))) #find the base-10 log of the iterations\n",
    "            y.append(np.log10(float(line.split()[1]))) #convert the time back to a float\n",
    "        line = file.readline()\n",
    "\n",
    "#plot the graph\n",
    "plt.plot(x, y)\n",
    "plt.ylabel(\"log10 time\")\n",
    "plt.xlabel(\"log10 iterations\")\n",
    "plt.show()"
   ]
  },
  {
   "cell_type": "code",
   "execution_count": null,
   "id": "d016dec6",
   "metadata": {},
   "outputs": [],
   "source": []
  }
 ],
 "metadata": {
  "kernelspec": {
   "display_name": "Python 3 (ipykernel)",
   "language": "python",
   "name": "python3"
  },
  "language_info": {
   "codemirror_mode": {
    "name": "ipython",
    "version": 3
   },
   "file_extension": ".py",
   "mimetype": "text/x-python",
   "name": "python",
   "nbconvert_exporter": "python",
   "pygments_lexer": "ipython3",
   "version": "3.9.9"
  }
 },
 "nbformat": 4,
 "nbformat_minor": 5
}
